{
 "cells": [
  {
   "cell_type": "code",
   "execution_count": 1,
   "id": "ec7f55c9-de38-4e42-94b8-c8a3345f6e19",
   "metadata": {},
   "outputs": [],
   "source": [
    "import requests"
   ]
  },
  {
   "cell_type": "code",
   "execution_count": 5,
   "id": "d8d21698-8d4b-4e8d-aabd-c97f47adb6eb",
   "metadata": {},
   "outputs": [],
   "source": [
    "# 민원정책 질의응답조회서비스\n",
    "url = 'http://apis.data.go.kr/1140100/CivilPolicyQnaService/PolicyQnaList'\n",
    "\n"
   ]
  },
  {
   "cell_type": "code",
   "execution_count": 2,
   "id": "cf13e5a7",
   "metadata": {},
   "outputs": [],
   "source": [
    "import os\n",
    "e_key = os.getenv('SINNUNGO_ENCODING_KEY', 'ABCDEFGHIJKLMNOPQRSTUVWXYZabcdefghijklmnopqrstuvwxyz0123456789')\n",
    "d_key = os.getenv('SINNUNGO_DECODING_KEY', 'ABCDEFGHIJKLMNOPQRSTUVWXYZabcdefghijklmnopqrstuvwxyz0123456789')"
   ]
  },
  {
   "cell_type": "code",
   "execution_count": 3,
   "id": "324a4c94-352f-4640-8655-400ff031556c",
   "metadata": {},
   "outputs": [
    {
     "ename": "KeyboardInterrupt",
     "evalue": "",
     "output_type": "error",
     "traceback": [
      "\u001b[0;31m---------------------------------------------------------------------------\u001b[0m",
      "\u001b[0;31mKeyboardInterrupt\u001b[0m                         Traceback (most recent call last)",
      "Cell \u001b[0;32mIn[3], line 15\u001b[0m\n\u001b[1;32m      2\u001b[0m url \u001b[38;5;241m=\u001b[39m \u001b[38;5;124m'\u001b[39m\u001b[38;5;124mhttp://apis.data.go.kr/1140100/CivilPolicyQnaService/PolicyQnaList\u001b[39m\u001b[38;5;124m'\u001b[39m\n\u001b[1;32m      4\u001b[0m params \u001b[38;5;241m=\u001b[39m{\n\u001b[1;32m      5\u001b[0m     \u001b[38;5;124m'\u001b[39m\u001b[38;5;124mserviceKey\u001b[39m\u001b[38;5;124m'\u001b[39m : d_key, \n\u001b[1;32m      6\u001b[0m     \u001b[38;5;124m'\u001b[39m\u001b[38;5;124mfirstIndex\u001b[39m\u001b[38;5;124m'\u001b[39m : \u001b[38;5;124m'\u001b[39m\u001b[38;5;124m1\u001b[39m\u001b[38;5;124m'\u001b[39m, \n\u001b[0;32m   (...)\u001b[0m\n\u001b[1;32m     12\u001b[0m     \u001b[38;5;66;03m# 'regTo' : '20240508' \u001b[39;00m\n\u001b[1;32m     13\u001b[0m }\n\u001b[0;32m---> 15\u001b[0m response \u001b[38;5;241m=\u001b[39m \u001b[43mrequests\u001b[49m\u001b[38;5;241;43m.\u001b[39;49m\u001b[43mget\u001b[49m\u001b[43m(\u001b[49m\u001b[43murl\u001b[49m\u001b[43m,\u001b[49m\u001b[43m \u001b[49m\u001b[43mparams\u001b[49m\u001b[38;5;241;43m=\u001b[39;49m\u001b[43mparams\u001b[49m\u001b[43m)\u001b[49m\n\u001b[1;32m     16\u001b[0m response\u001b[38;5;241m.\u001b[39mtext\n\u001b[1;32m     17\u001b[0m \u001b[38;5;66;03m# r = response.json()\u001b[39;00m\n\u001b[1;32m     18\u001b[0m \u001b[38;5;66;03m# faq_list = r['resultList']\u001b[39;00m\n\u001b[1;32m     19\u001b[0m \u001b[38;5;66;03m# len(faq_list)\u001b[39;00m\n",
      "File \u001b[0;32m~/code/sinmun-go/.venv/lib/python3.10/site-packages/requests/api.py:73\u001b[0m, in \u001b[0;36mget\u001b[0;34m(url, params, **kwargs)\u001b[0m\n\u001b[1;32m     62\u001b[0m \u001b[38;5;28;01mdef\u001b[39;00m\u001b[38;5;250m \u001b[39m\u001b[38;5;21mget\u001b[39m(url, params\u001b[38;5;241m=\u001b[39m\u001b[38;5;28;01mNone\u001b[39;00m, \u001b[38;5;241m*\u001b[39m\u001b[38;5;241m*\u001b[39mkwargs):\n\u001b[1;32m     63\u001b[0m \u001b[38;5;250m    \u001b[39m\u001b[38;5;124mr\u001b[39m\u001b[38;5;124;03m\"\"\"Sends a GET request.\u001b[39;00m\n\u001b[1;32m     64\u001b[0m \n\u001b[1;32m     65\u001b[0m \u001b[38;5;124;03m    :param url: URL for the new :class:`Request` object.\u001b[39;00m\n\u001b[0;32m   (...)\u001b[0m\n\u001b[1;32m     70\u001b[0m \u001b[38;5;124;03m    :rtype: requests.Response\u001b[39;00m\n\u001b[1;32m     71\u001b[0m \u001b[38;5;124;03m    \"\"\"\u001b[39;00m\n\u001b[0;32m---> 73\u001b[0m     \u001b[38;5;28;01mreturn\u001b[39;00m \u001b[43mrequest\u001b[49m\u001b[43m(\u001b[49m\u001b[38;5;124;43m\"\u001b[39;49m\u001b[38;5;124;43mget\u001b[39;49m\u001b[38;5;124;43m\"\u001b[39;49m\u001b[43m,\u001b[49m\u001b[43m \u001b[49m\u001b[43murl\u001b[49m\u001b[43m,\u001b[49m\u001b[43m \u001b[49m\u001b[43mparams\u001b[49m\u001b[38;5;241;43m=\u001b[39;49m\u001b[43mparams\u001b[49m\u001b[43m,\u001b[49m\u001b[43m \u001b[49m\u001b[38;5;241;43m*\u001b[39;49m\u001b[38;5;241;43m*\u001b[39;49m\u001b[43mkwargs\u001b[49m\u001b[43m)\u001b[49m\n",
      "File \u001b[0;32m~/code/sinmun-go/.venv/lib/python3.10/site-packages/requests/api.py:59\u001b[0m, in \u001b[0;36mrequest\u001b[0;34m(method, url, **kwargs)\u001b[0m\n\u001b[1;32m     55\u001b[0m \u001b[38;5;66;03m# By using the 'with' statement we are sure the session is closed, thus we\u001b[39;00m\n\u001b[1;32m     56\u001b[0m \u001b[38;5;66;03m# avoid leaving sockets open which can trigger a ResourceWarning in some\u001b[39;00m\n\u001b[1;32m     57\u001b[0m \u001b[38;5;66;03m# cases, and look like a memory leak in others.\u001b[39;00m\n\u001b[1;32m     58\u001b[0m \u001b[38;5;28;01mwith\u001b[39;00m sessions\u001b[38;5;241m.\u001b[39mSession() \u001b[38;5;28;01mas\u001b[39;00m session:\n\u001b[0;32m---> 59\u001b[0m     \u001b[38;5;28;01mreturn\u001b[39;00m \u001b[43msession\u001b[49m\u001b[38;5;241;43m.\u001b[39;49m\u001b[43mrequest\u001b[49m\u001b[43m(\u001b[49m\u001b[43mmethod\u001b[49m\u001b[38;5;241;43m=\u001b[39;49m\u001b[43mmethod\u001b[49m\u001b[43m,\u001b[49m\u001b[43m \u001b[49m\u001b[43murl\u001b[49m\u001b[38;5;241;43m=\u001b[39;49m\u001b[43murl\u001b[49m\u001b[43m,\u001b[49m\u001b[43m \u001b[49m\u001b[38;5;241;43m*\u001b[39;49m\u001b[38;5;241;43m*\u001b[39;49m\u001b[43mkwargs\u001b[49m\u001b[43m)\u001b[49m\n",
      "File \u001b[0;32m~/code/sinmun-go/.venv/lib/python3.10/site-packages/requests/sessions.py:589\u001b[0m, in \u001b[0;36mSession.request\u001b[0;34m(self, method, url, params, data, headers, cookies, files, auth, timeout, allow_redirects, proxies, hooks, stream, verify, cert, json)\u001b[0m\n\u001b[1;32m    584\u001b[0m send_kwargs \u001b[38;5;241m=\u001b[39m {\n\u001b[1;32m    585\u001b[0m     \u001b[38;5;124m\"\u001b[39m\u001b[38;5;124mtimeout\u001b[39m\u001b[38;5;124m\"\u001b[39m: timeout,\n\u001b[1;32m    586\u001b[0m     \u001b[38;5;124m\"\u001b[39m\u001b[38;5;124mallow_redirects\u001b[39m\u001b[38;5;124m\"\u001b[39m: allow_redirects,\n\u001b[1;32m    587\u001b[0m }\n\u001b[1;32m    588\u001b[0m send_kwargs\u001b[38;5;241m.\u001b[39mupdate(settings)\n\u001b[0;32m--> 589\u001b[0m resp \u001b[38;5;241m=\u001b[39m \u001b[38;5;28;43mself\u001b[39;49m\u001b[38;5;241;43m.\u001b[39;49m\u001b[43msend\u001b[49m\u001b[43m(\u001b[49m\u001b[43mprep\u001b[49m\u001b[43m,\u001b[49m\u001b[43m \u001b[49m\u001b[38;5;241;43m*\u001b[39;49m\u001b[38;5;241;43m*\u001b[39;49m\u001b[43msend_kwargs\u001b[49m\u001b[43m)\u001b[49m\n\u001b[1;32m    591\u001b[0m \u001b[38;5;28;01mreturn\u001b[39;00m resp\n",
      "File \u001b[0;32m~/code/sinmun-go/.venv/lib/python3.10/site-packages/requests/sessions.py:703\u001b[0m, in \u001b[0;36mSession.send\u001b[0;34m(self, request, **kwargs)\u001b[0m\n\u001b[1;32m    700\u001b[0m start \u001b[38;5;241m=\u001b[39m preferred_clock()\n\u001b[1;32m    702\u001b[0m \u001b[38;5;66;03m# Send the request\u001b[39;00m\n\u001b[0;32m--> 703\u001b[0m r \u001b[38;5;241m=\u001b[39m \u001b[43madapter\u001b[49m\u001b[38;5;241;43m.\u001b[39;49m\u001b[43msend\u001b[49m\u001b[43m(\u001b[49m\u001b[43mrequest\u001b[49m\u001b[43m,\u001b[49m\u001b[43m \u001b[49m\u001b[38;5;241;43m*\u001b[39;49m\u001b[38;5;241;43m*\u001b[39;49m\u001b[43mkwargs\u001b[49m\u001b[43m)\u001b[49m\n\u001b[1;32m    705\u001b[0m \u001b[38;5;66;03m# Total elapsed time of the request (approximately)\u001b[39;00m\n\u001b[1;32m    706\u001b[0m elapsed \u001b[38;5;241m=\u001b[39m preferred_clock() \u001b[38;5;241m-\u001b[39m start\n",
      "File \u001b[0;32m~/code/sinmun-go/.venv/lib/python3.10/site-packages/requests/adapters.py:667\u001b[0m, in \u001b[0;36mHTTPAdapter.send\u001b[0;34m(self, request, stream, timeout, verify, cert, proxies)\u001b[0m\n\u001b[1;32m    664\u001b[0m     timeout \u001b[38;5;241m=\u001b[39m TimeoutSauce(connect\u001b[38;5;241m=\u001b[39mtimeout, read\u001b[38;5;241m=\u001b[39mtimeout)\n\u001b[1;32m    666\u001b[0m \u001b[38;5;28;01mtry\u001b[39;00m:\n\u001b[0;32m--> 667\u001b[0m     resp \u001b[38;5;241m=\u001b[39m \u001b[43mconn\u001b[49m\u001b[38;5;241;43m.\u001b[39;49m\u001b[43murlopen\u001b[49m\u001b[43m(\u001b[49m\n\u001b[1;32m    668\u001b[0m \u001b[43m        \u001b[49m\u001b[43mmethod\u001b[49m\u001b[38;5;241;43m=\u001b[39;49m\u001b[43mrequest\u001b[49m\u001b[38;5;241;43m.\u001b[39;49m\u001b[43mmethod\u001b[49m\u001b[43m,\u001b[49m\n\u001b[1;32m    669\u001b[0m \u001b[43m        \u001b[49m\u001b[43murl\u001b[49m\u001b[38;5;241;43m=\u001b[39;49m\u001b[43murl\u001b[49m\u001b[43m,\u001b[49m\n\u001b[1;32m    670\u001b[0m \u001b[43m        \u001b[49m\u001b[43mbody\u001b[49m\u001b[38;5;241;43m=\u001b[39;49m\u001b[43mrequest\u001b[49m\u001b[38;5;241;43m.\u001b[39;49m\u001b[43mbody\u001b[49m\u001b[43m,\u001b[49m\n\u001b[1;32m    671\u001b[0m \u001b[43m        \u001b[49m\u001b[43mheaders\u001b[49m\u001b[38;5;241;43m=\u001b[39;49m\u001b[43mrequest\u001b[49m\u001b[38;5;241;43m.\u001b[39;49m\u001b[43mheaders\u001b[49m\u001b[43m,\u001b[49m\n\u001b[1;32m    672\u001b[0m \u001b[43m        \u001b[49m\u001b[43mredirect\u001b[49m\u001b[38;5;241;43m=\u001b[39;49m\u001b[38;5;28;43;01mFalse\u001b[39;49;00m\u001b[43m,\u001b[49m\n\u001b[1;32m    673\u001b[0m \u001b[43m        \u001b[49m\u001b[43massert_same_host\u001b[49m\u001b[38;5;241;43m=\u001b[39;49m\u001b[38;5;28;43;01mFalse\u001b[39;49;00m\u001b[43m,\u001b[49m\n\u001b[1;32m    674\u001b[0m \u001b[43m        \u001b[49m\u001b[43mpreload_content\u001b[49m\u001b[38;5;241;43m=\u001b[39;49m\u001b[38;5;28;43;01mFalse\u001b[39;49;00m\u001b[43m,\u001b[49m\n\u001b[1;32m    675\u001b[0m \u001b[43m        \u001b[49m\u001b[43mdecode_content\u001b[49m\u001b[38;5;241;43m=\u001b[39;49m\u001b[38;5;28;43;01mFalse\u001b[39;49;00m\u001b[43m,\u001b[49m\n\u001b[1;32m    676\u001b[0m \u001b[43m        \u001b[49m\u001b[43mretries\u001b[49m\u001b[38;5;241;43m=\u001b[39;49m\u001b[38;5;28;43mself\u001b[39;49m\u001b[38;5;241;43m.\u001b[39;49m\u001b[43mmax_retries\u001b[49m\u001b[43m,\u001b[49m\n\u001b[1;32m    677\u001b[0m \u001b[43m        \u001b[49m\u001b[43mtimeout\u001b[49m\u001b[38;5;241;43m=\u001b[39;49m\u001b[43mtimeout\u001b[49m\u001b[43m,\u001b[49m\n\u001b[1;32m    678\u001b[0m \u001b[43m        \u001b[49m\u001b[43mchunked\u001b[49m\u001b[38;5;241;43m=\u001b[39;49m\u001b[43mchunked\u001b[49m\u001b[43m,\u001b[49m\n\u001b[1;32m    679\u001b[0m \u001b[43m    \u001b[49m\u001b[43m)\u001b[49m\n\u001b[1;32m    681\u001b[0m \u001b[38;5;28;01mexcept\u001b[39;00m (ProtocolError, \u001b[38;5;167;01mOSError\u001b[39;00m) \u001b[38;5;28;01mas\u001b[39;00m err:\n\u001b[1;32m    682\u001b[0m     \u001b[38;5;28;01mraise\u001b[39;00m \u001b[38;5;167;01mConnectionError\u001b[39;00m(err, request\u001b[38;5;241m=\u001b[39mrequest)\n",
      "File \u001b[0;32m~/code/sinmun-go/.venv/lib/python3.10/site-packages/urllib3/connectionpool.py:787\u001b[0m, in \u001b[0;36mHTTPConnectionPool.urlopen\u001b[0;34m(self, method, url, body, headers, retries, redirect, assert_same_host, timeout, pool_timeout, release_conn, chunked, body_pos, preload_content, decode_content, **response_kw)\u001b[0m\n\u001b[1;32m    784\u001b[0m response_conn \u001b[38;5;241m=\u001b[39m conn \u001b[38;5;28;01mif\u001b[39;00m \u001b[38;5;129;01mnot\u001b[39;00m release_conn \u001b[38;5;28;01melse\u001b[39;00m \u001b[38;5;28;01mNone\u001b[39;00m\n\u001b[1;32m    786\u001b[0m \u001b[38;5;66;03m# Make the request on the HTTPConnection object\u001b[39;00m\n\u001b[0;32m--> 787\u001b[0m response \u001b[38;5;241m=\u001b[39m \u001b[38;5;28;43mself\u001b[39;49m\u001b[38;5;241;43m.\u001b[39;49m\u001b[43m_make_request\u001b[49m\u001b[43m(\u001b[49m\n\u001b[1;32m    788\u001b[0m \u001b[43m    \u001b[49m\u001b[43mconn\u001b[49m\u001b[43m,\u001b[49m\n\u001b[1;32m    789\u001b[0m \u001b[43m    \u001b[49m\u001b[43mmethod\u001b[49m\u001b[43m,\u001b[49m\n\u001b[1;32m    790\u001b[0m \u001b[43m    \u001b[49m\u001b[43murl\u001b[49m\u001b[43m,\u001b[49m\n\u001b[1;32m    791\u001b[0m \u001b[43m    \u001b[49m\u001b[43mtimeout\u001b[49m\u001b[38;5;241;43m=\u001b[39;49m\u001b[43mtimeout_obj\u001b[49m\u001b[43m,\u001b[49m\n\u001b[1;32m    792\u001b[0m \u001b[43m    \u001b[49m\u001b[43mbody\u001b[49m\u001b[38;5;241;43m=\u001b[39;49m\u001b[43mbody\u001b[49m\u001b[43m,\u001b[49m\n\u001b[1;32m    793\u001b[0m \u001b[43m    \u001b[49m\u001b[43mheaders\u001b[49m\u001b[38;5;241;43m=\u001b[39;49m\u001b[43mheaders\u001b[49m\u001b[43m,\u001b[49m\n\u001b[1;32m    794\u001b[0m \u001b[43m    \u001b[49m\u001b[43mchunked\u001b[49m\u001b[38;5;241;43m=\u001b[39;49m\u001b[43mchunked\u001b[49m\u001b[43m,\u001b[49m\n\u001b[1;32m    795\u001b[0m \u001b[43m    \u001b[49m\u001b[43mretries\u001b[49m\u001b[38;5;241;43m=\u001b[39;49m\u001b[43mretries\u001b[49m\u001b[43m,\u001b[49m\n\u001b[1;32m    796\u001b[0m \u001b[43m    \u001b[49m\u001b[43mresponse_conn\u001b[49m\u001b[38;5;241;43m=\u001b[39;49m\u001b[43mresponse_conn\u001b[49m\u001b[43m,\u001b[49m\n\u001b[1;32m    797\u001b[0m \u001b[43m    \u001b[49m\u001b[43mpreload_content\u001b[49m\u001b[38;5;241;43m=\u001b[39;49m\u001b[43mpreload_content\u001b[49m\u001b[43m,\u001b[49m\n\u001b[1;32m    798\u001b[0m \u001b[43m    \u001b[49m\u001b[43mdecode_content\u001b[49m\u001b[38;5;241;43m=\u001b[39;49m\u001b[43mdecode_content\u001b[49m\u001b[43m,\u001b[49m\n\u001b[1;32m    799\u001b[0m \u001b[43m    \u001b[49m\u001b[38;5;241;43m*\u001b[39;49m\u001b[38;5;241;43m*\u001b[39;49m\u001b[43mresponse_kw\u001b[49m\u001b[43m,\u001b[49m\n\u001b[1;32m    800\u001b[0m \u001b[43m\u001b[49m\u001b[43m)\u001b[49m\n\u001b[1;32m    802\u001b[0m \u001b[38;5;66;03m# Everything went great!\u001b[39;00m\n\u001b[1;32m    803\u001b[0m clean_exit \u001b[38;5;241m=\u001b[39m \u001b[38;5;28;01mTrue\u001b[39;00m\n",
      "File \u001b[0;32m~/code/sinmun-go/.venv/lib/python3.10/site-packages/urllib3/connectionpool.py:534\u001b[0m, in \u001b[0;36mHTTPConnectionPool._make_request\u001b[0;34m(self, conn, method, url, body, headers, retries, timeout, chunked, response_conn, preload_content, decode_content, enforce_content_length)\u001b[0m\n\u001b[1;32m    532\u001b[0m \u001b[38;5;66;03m# Receive the response from the server\u001b[39;00m\n\u001b[1;32m    533\u001b[0m \u001b[38;5;28;01mtry\u001b[39;00m:\n\u001b[0;32m--> 534\u001b[0m     response \u001b[38;5;241m=\u001b[39m \u001b[43mconn\u001b[49m\u001b[38;5;241;43m.\u001b[39;49m\u001b[43mgetresponse\u001b[49m\u001b[43m(\u001b[49m\u001b[43m)\u001b[49m\n\u001b[1;32m    535\u001b[0m \u001b[38;5;28;01mexcept\u001b[39;00m (BaseSSLError, \u001b[38;5;167;01mOSError\u001b[39;00m) \u001b[38;5;28;01mas\u001b[39;00m e:\n\u001b[1;32m    536\u001b[0m     \u001b[38;5;28mself\u001b[39m\u001b[38;5;241m.\u001b[39m_raise_timeout(err\u001b[38;5;241m=\u001b[39me, url\u001b[38;5;241m=\u001b[39murl, timeout_value\u001b[38;5;241m=\u001b[39mread_timeout)\n",
      "File \u001b[0;32m~/code/sinmun-go/.venv/lib/python3.10/site-packages/urllib3/connection.py:516\u001b[0m, in \u001b[0;36mHTTPConnection.getresponse\u001b[0;34m(self)\u001b[0m\n\u001b[1;32m    513\u001b[0m _shutdown \u001b[38;5;241m=\u001b[39m \u001b[38;5;28mgetattr\u001b[39m(\u001b[38;5;28mself\u001b[39m\u001b[38;5;241m.\u001b[39msock, \u001b[38;5;124m\"\u001b[39m\u001b[38;5;124mshutdown\u001b[39m\u001b[38;5;124m\"\u001b[39m, \u001b[38;5;28;01mNone\u001b[39;00m)\n\u001b[1;32m    515\u001b[0m \u001b[38;5;66;03m# Get the response from http.client.HTTPConnection\u001b[39;00m\n\u001b[0;32m--> 516\u001b[0m httplib_response \u001b[38;5;241m=\u001b[39m \u001b[38;5;28;43msuper\u001b[39;49m\u001b[43m(\u001b[49m\u001b[43m)\u001b[49m\u001b[38;5;241;43m.\u001b[39;49m\u001b[43mgetresponse\u001b[49m\u001b[43m(\u001b[49m\u001b[43m)\u001b[49m\n\u001b[1;32m    518\u001b[0m \u001b[38;5;28;01mtry\u001b[39;00m:\n\u001b[1;32m    519\u001b[0m     assert_header_parsing(httplib_response\u001b[38;5;241m.\u001b[39mmsg)\n",
      "File \u001b[0;32m~/.pyenv/versions/3.10.12/lib/python3.10/http/client.py:1375\u001b[0m, in \u001b[0;36mHTTPConnection.getresponse\u001b[0;34m(self)\u001b[0m\n\u001b[1;32m   1373\u001b[0m \u001b[38;5;28;01mtry\u001b[39;00m:\n\u001b[1;32m   1374\u001b[0m     \u001b[38;5;28;01mtry\u001b[39;00m:\n\u001b[0;32m-> 1375\u001b[0m         \u001b[43mresponse\u001b[49m\u001b[38;5;241;43m.\u001b[39;49m\u001b[43mbegin\u001b[49m\u001b[43m(\u001b[49m\u001b[43m)\u001b[49m\n\u001b[1;32m   1376\u001b[0m     \u001b[38;5;28;01mexcept\u001b[39;00m \u001b[38;5;167;01mConnectionError\u001b[39;00m:\n\u001b[1;32m   1377\u001b[0m         \u001b[38;5;28mself\u001b[39m\u001b[38;5;241m.\u001b[39mclose()\n",
      "File \u001b[0;32m~/.pyenv/versions/3.10.12/lib/python3.10/http/client.py:318\u001b[0m, in \u001b[0;36mHTTPResponse.begin\u001b[0;34m(self)\u001b[0m\n\u001b[1;32m    316\u001b[0m \u001b[38;5;66;03m# read until we get a non-100 response\u001b[39;00m\n\u001b[1;32m    317\u001b[0m \u001b[38;5;28;01mwhile\u001b[39;00m \u001b[38;5;28;01mTrue\u001b[39;00m:\n\u001b[0;32m--> 318\u001b[0m     version, status, reason \u001b[38;5;241m=\u001b[39m \u001b[38;5;28;43mself\u001b[39;49m\u001b[38;5;241;43m.\u001b[39;49m\u001b[43m_read_status\u001b[49m\u001b[43m(\u001b[49m\u001b[43m)\u001b[49m\n\u001b[1;32m    319\u001b[0m     \u001b[38;5;28;01mif\u001b[39;00m status \u001b[38;5;241m!=\u001b[39m CONTINUE:\n\u001b[1;32m    320\u001b[0m         \u001b[38;5;28;01mbreak\u001b[39;00m\n",
      "File \u001b[0;32m~/.pyenv/versions/3.10.12/lib/python3.10/http/client.py:279\u001b[0m, in \u001b[0;36mHTTPResponse._read_status\u001b[0;34m(self)\u001b[0m\n\u001b[1;32m    278\u001b[0m \u001b[38;5;28;01mdef\u001b[39;00m\u001b[38;5;250m \u001b[39m\u001b[38;5;21m_read_status\u001b[39m(\u001b[38;5;28mself\u001b[39m):\n\u001b[0;32m--> 279\u001b[0m     line \u001b[38;5;241m=\u001b[39m \u001b[38;5;28mstr\u001b[39m(\u001b[38;5;28;43mself\u001b[39;49m\u001b[38;5;241;43m.\u001b[39;49m\u001b[43mfp\u001b[49m\u001b[38;5;241;43m.\u001b[39;49m\u001b[43mreadline\u001b[49m\u001b[43m(\u001b[49m\u001b[43m_MAXLINE\u001b[49m\u001b[43m \u001b[49m\u001b[38;5;241;43m+\u001b[39;49m\u001b[43m \u001b[49m\u001b[38;5;241;43m1\u001b[39;49m\u001b[43m)\u001b[49m, \u001b[38;5;124m\"\u001b[39m\u001b[38;5;124miso-8859-1\u001b[39m\u001b[38;5;124m\"\u001b[39m)\n\u001b[1;32m    280\u001b[0m     \u001b[38;5;28;01mif\u001b[39;00m \u001b[38;5;28mlen\u001b[39m(line) \u001b[38;5;241m>\u001b[39m _MAXLINE:\n\u001b[1;32m    281\u001b[0m         \u001b[38;5;28;01mraise\u001b[39;00m LineTooLong(\u001b[38;5;124m\"\u001b[39m\u001b[38;5;124mstatus line\u001b[39m\u001b[38;5;124m\"\u001b[39m)\n",
      "File \u001b[0;32m~/.pyenv/versions/3.10.12/lib/python3.10/socket.py:705\u001b[0m, in \u001b[0;36mSocketIO.readinto\u001b[0;34m(self, b)\u001b[0m\n\u001b[1;32m    703\u001b[0m \u001b[38;5;28;01mwhile\u001b[39;00m \u001b[38;5;28;01mTrue\u001b[39;00m:\n\u001b[1;32m    704\u001b[0m     \u001b[38;5;28;01mtry\u001b[39;00m:\n\u001b[0;32m--> 705\u001b[0m         \u001b[38;5;28;01mreturn\u001b[39;00m \u001b[38;5;28;43mself\u001b[39;49m\u001b[38;5;241;43m.\u001b[39;49m\u001b[43m_sock\u001b[49m\u001b[38;5;241;43m.\u001b[39;49m\u001b[43mrecv_into\u001b[49m\u001b[43m(\u001b[49m\u001b[43mb\u001b[49m\u001b[43m)\u001b[49m\n\u001b[1;32m    706\u001b[0m     \u001b[38;5;28;01mexcept\u001b[39;00m timeout:\n\u001b[1;32m    707\u001b[0m         \u001b[38;5;28mself\u001b[39m\u001b[38;5;241m.\u001b[39m_timeout_occurred \u001b[38;5;241m=\u001b[39m \u001b[38;5;28;01mTrue\u001b[39;00m\n",
      "\u001b[0;31mKeyboardInterrupt\u001b[0m: "
     ]
    }
   ],
   "source": [
    "# 민원정책 질의응답조회서비스\n",
    "url = 'http://apis.data.go.kr/1140100/CivilPolicyQnaService/PolicyQnaList'\n",
    "\n",
    "params ={\n",
    "    'serviceKey' : d_key, \n",
    "    'firstIndex' : '1', \n",
    "    'recordCountPerPage' : '30000', \n",
    "    # 'type' : '1', \n",
    "    'keyword' : '궁금', \n",
    "    # 'searchType' : '1', \n",
    "    # 'regFrom' : '20240506', \n",
    "    # 'regTo' : '20240508' \n",
    "}\n",
    "\n",
    "response = requests.get(url, params=params)\n",
    "response.text\n",
    "# r = response.json()\n",
    "# faq_list = r['resultList']\n",
    "# len(faq_list)\n"
   ]
  },
  {
   "cell_type": "code",
   "execution_count": 27,
   "id": "423d3a23",
   "metadata": {},
   "outputs": [
    {
     "name": "stdout",
     "output_type": "stream",
     "text": [
      "20072\n",
      "2025-05-07 17:18:15\n"
     ]
    }
   ],
   "source": [
    "print(len(faq_list))\n",
    "\n",
    "from datetime import datetime\n",
    "\n",
    "now = datetime.now()\n",
    "print(now.strftime(\"%Y-%m-%d %H:%M:%S\"))\n",
    "\n"
   ]
  },
  {
   "cell_type": "code",
   "execution_count": 24,
   "id": "e995bd53",
   "metadata": {},
   "outputs": [
    {
     "data": {
      "text/plain": [
       "20072"
      ]
     },
     "execution_count": 24,
     "metadata": {},
     "output_type": "execute_result"
    }
   ],
   "source": [
    "l = data['resultList']\n",
    "len(l)"
   ]
  },
  {
   "cell_type": "markdown",
   "id": "7f81c1d1",
   "metadata": {},
   "source": [
    "# 민원정책 질의응답 항목 조회"
   ]
  },
  {
   "cell_type": "code",
   "execution_count": 4,
   "id": "7aecff37",
   "metadata": {},
   "outputs": [
    {
     "data": {
      "text/plain": [
       "{'resultCode': 'S00',\n",
       " 'resultMessage': '1(건) 조회되었습니다.',\n",
       " 'resultData': {'faqNo': '6859437',\n",
       "  'dutySctnNm': 'tqapttn',\n",
       "  'qnaTitl': '경기도 과천시에서 공급되는 주택의 해당 주택건설지역의 범위는?',\n",
       "  'qstnCntnCl': '경기도 과천시에서 공급되는 주택의 해당 주택건설지역의 범위는?',\n",
       "  'ansCntnCl': '&lt;span style=&quot;font-family:KoPub돋움체 Light&quot;&gt;해당 주택건설지역이란 특별시ㆍ광역시ㆍ특별자치시ㆍ&lt;/span&gt;&lt;a&gt;&lt;span style=&quot;font-family:KoPub돋움체 Light&quot;&gt;특별자치도&lt;/span&gt;(&lt;span style=&quot;font-family:KoPub돋움체 Light&quot;&gt;관할 구역 안에 지방자치단체인 시ㆍ군이 없는 특별자치도를 말한다&lt;/span&gt;)&lt;/a&gt; &lt;span style=&quot;font-family:KoPub돋움체 Light&quot;&gt;또는 시ㆍ군의 행정구역을 말합니다&lt;/span&gt;. &lt;span style=&quot;font-family:KoPub돋움체 Light&quot;&gt;따라서&lt;/span&gt;, &lt;span style=&quot;font-family:KoPub돋움체 Light&quot;&gt;경기도 과천시에서 공급하는 주택의 경우 과천시가 해당 주택건설지역에 해당됩니다&lt;/span&gt;.&lt;br /&gt;\\n&lt;span style=&quot;font-family:KoPub돋움체 Light&quot;&gt;참&lt;/span&gt;&lt;span style=&quot;font-family:KoPub돋움체 Light&quot;&gt;고로&lt;/span&gt;, &lt;span style=&quot;font-family:KoPub돋움체 Light&quot;&gt;서울특별시에서 공급되는 주택의 경우 서울특별시 전역&lt;/span&gt;, &lt;span style=&quot;font-family:KoPub돋움체 Light&quot;&gt;인천광역시의 경우 인천광역시&lt;/span&gt; &lt;span style=&quot;font-family:KoPub돋움체 Light&quot;&gt;전역이 해당 주택건설지역에 해당됩니다&lt;/span&gt;.\\n&lt;div class=&quot;hwp_editor_board_content&quot;&gt;&nbsp;&lt;/div&gt;\\n',\n",
       "  'ancName': '국토교통부',\n",
       "  'deptName': '국토교통부 주택토지실 주택정책관 주택기금과',\n",
       "  'regDate': '20240424',\n",
       "  'ancCode': '1613000',\n",
       "  'deptCode': '1613039',\n",
       "  'lawList': [{'fullName': '주택공급에 관한 규칙 / ',\n",
       "    'lwrdNm': '주택공급에 관한 규칙',\n",
       "    'lwrdUrl': 'http://law.go.kr/법령/주택공급에 관한 규칙'}],\n",
       "  'subjList': []},\n",
       " 'resultDebug': '2025-05-01 19:01:07, eapi22'}"
      ]
     },
     "execution_count": 4,
     "metadata": {},
     "output_type": "execute_result"
    }
   ],
   "source": [
    "url = 'http://apis.data.go.kr/1140100/CivilPolicyQnaService/PolicyQnaItem'\n",
    "\n",
    "params ={\n",
    "    'serviceKey' : d_key,\n",
    "    'faqNo': 6859437,\n",
    "    'dutySctnNm': 'tqapttn'\n",
    "}\n",
    "\n",
    "response = requests.get(url, params=params)\n",
    "response.json()"
   ]
  },
  {
   "cell_type": "markdown",
   "id": "7a609300",
   "metadata": {},
   "source": []
  },
  {
   "cell_type": "code",
   "execution_count": 74,
   "id": "66060546",
   "metadata": {},
   "outputs": [
    {
     "data": {
      "text/plain": [
       "{'resultCode': 'E03',\n",
       " 'resultMessage': '조회된 데이터가 없습니다.',\n",
       " 'resultDebug': '2025-05-01 19:01:07, eapi22'}"
      ]
     },
     "execution_count": 74,
     "metadata": {},
     "output_type": "execute_result"
    }
   ],
   "source": [
    "url = 'http://apis.data.go.kr/1140100/CivilPolicyQnaService/PolicyQnaItem'\n",
    "\n",
    "params ={\n",
    "    'serviceKey' : d_key,\n",
    "    'faqNo': 1192000,\n",
    "    'dutySctnNm': 'tqaplcy'\n",
    "}\n",
    "\n",
    "response = requests.get(url, params=params)\n",
    "response.json()"
   ]
  },
  {
   "cell_type": "markdown",
   "id": "2432f4f8",
   "metadata": {},
   "source": [
    "# DB 에 저장"
   ]
  },
  {
   "cell_type": "markdown",
   "id": "46065ce8",
   "metadata": {},
   "source": []
  },
  {
   "cell_type": "code",
   "execution_count": 19,
   "id": "0dfaf0b1",
   "metadata": {},
   "outputs": [],
   "source": [
    "import sqlite3\n",
    "import json"
   ]
  },
  {
   "cell_type": "code",
   "execution_count": 20,
   "id": "fe76597b",
   "metadata": {},
   "outputs": [
    {
     "data": {
      "text/plain": [
       "dict"
      ]
     },
     "execution_count": 20,
     "metadata": {},
     "output_type": "execute_result"
    }
   ],
   "source": [
    "type(data)"
   ]
  },
  {
   "cell_type": "code",
   "execution_count": 25,
   "id": "5602b33d",
   "metadata": {},
   "outputs": [
    {
     "data": {
      "text/plain": [
       "{'dutySctnNm': 'tqapttn',\n",
       " 'ancCode': '7480000',\n",
       " 'ancName': '울산광역시교육청',\n",
       " 'regDate': '20250506092434',\n",
       " 'title': '울산마을교육공동체 시설 이용 관련 안내',\n",
       " 'faqNo': '6882492'}"
      ]
     },
     "execution_count": 25,
     "metadata": {},
     "output_type": "execute_result"
    }
   ],
   "source": [
    "data['resultList'][1]"
   ]
  },
  {
   "cell_type": "code",
   "execution_count": 26,
   "id": "e180e985",
   "metadata": {},
   "outputs": [
    {
     "data": {
      "text/plain": [
       "20072"
      ]
     },
     "execution_count": 26,
     "metadata": {},
     "output_type": "execute_result"
    }
   ],
   "source": [
    "len(data['resultList'])"
   ]
  },
  {
   "cell_type": "code",
   "execution_count": 27,
   "id": "f724a7c5",
   "metadata": {},
   "outputs": [],
   "source": [
    "# SQLite DB 연결 (없으면 생성됨)\n",
    "conn = sqlite3.connect('faq20072.db')\n",
    "cursor = conn.cursor()"
   ]
  },
  {
   "cell_type": "code",
   "execution_count": 28,
   "id": "bc0ddf1f",
   "metadata": {},
   "outputs": [
    {
     "data": {
      "text/plain": [
       "<sqlite3.Cursor at 0x7f05ee1ba9c0>"
      ]
     },
     "execution_count": 28,
     "metadata": {},
     "output_type": "execute_result"
    }
   ],
   "source": [
    "cursor.execute('''\n",
    "CREATE TABLE IF NOT EXISTS faq (\n",
    "    faqNo TEXT PRIMARY KEY,\n",
    "    dutySctnNm TEXT,\n",
    "    ancCode TEXT,\n",
    "    ancName TEXT,\n",
    "    regDate TEXT,\n",
    "    title TEXT\n",
    ")\n",
    "''')"
   ]
  },
  {
   "cell_type": "code",
   "execution_count": 29,
   "id": "3adccf29",
   "metadata": {},
   "outputs": [],
   "source": [
    "# 데이터 삽입\n",
    "for item in data['resultList']:\n",
    "    cursor.execute('''\n",
    "        INSERT OR REPLACE INTO faq (faqNo, dutySctnNm, ancCode, ancName, regDate, title)\n",
    "        VALUES (?, ?, ?, ?, ?, ?)\n",
    "    ''', (\n",
    "        item['faqNo'],\n",
    "        item['dutySctnNm'],\n",
    "        item['ancCode'],\n",
    "        item['ancName'],\n",
    "        item['regDate'],\n",
    "        item['title']\n",
    "    ))"
   ]
  },
  {
   "cell_type": "code",
   "execution_count": 10,
   "id": "fb9fa79b",
   "metadata": {},
   "outputs": [],
   "source": [
    "# 저장 및 종료\n",
    "conn.commit()\n",
    "conn.close()"
   ]
  },
  {
   "cell_type": "markdown",
   "id": "1bb12d22",
   "metadata": {},
   "source": [
    "# 디테일 입수"
   ]
  },
  {
   "cell_type": "code",
   "execution_count": 7,
   "id": "df718011",
   "metadata": {},
   "outputs": [
    {
     "data": {
      "text/plain": [
       "53"
      ]
     },
     "execution_count": 7,
     "metadata": {},
     "output_type": "execute_result"
    }
   ],
   "source": [
    "import sqlite3\n",
    "\n",
    "conn = sqlite3.connect('/home/tom/code/sinmun-go/note/faq20072.db')\n",
    "cursor = conn.cursor()\n",
    "\n",
    "# faq 테이블에서 필요한 항목 조회\n",
    "# cursor.execute('SELECT faqNo, dutySctnNm FROM faq ORDER BY faqNo')\n",
    "# LEFT JOIN을 사용하여 faq_de에 없는 항목만 가져오기\n",
    "cursor.execute('''SELECT f.faqNo, f.dutySctnNm \n",
    "FROM faq f\n",
    "LEFT JOIN faq_de d ON f.faqNo = d.faqNo\n",
    "WHERE d.faqNo IS NULL''')\n",
    "\n",
    "faq_items = cursor.fetchall()\n",
    "\n",
    "conn.commit()\n",
    "conn.close()\n",
    "\n",
    "len(faq_items)\n"
   ]
  },
  {
   "cell_type": "code",
   "execution_count": 9,
   "id": "e06942f9",
   "metadata": {},
   "outputs": [
    {
     "name": "stdout",
     "output_type": "stream",
     "text": [
      "[6881095] API 오류: 조회된 데이터가 없습니다.\n",
      "[6881433] API 오류: 조회된 데이터가 없습니다.\n",
      "[6881466] API 오류: 조회된 데이터가 없습니다.\n",
      "[6880775] API 오류: 조회된 데이터가 없습니다.\n",
      "[6880235] API 오류: 조회된 데이터가 없습니다.\n",
      "[6873621] API 오류: 조회된 데이터가 없습니다.\n",
      "[6867062] API 오류: 조회된 데이터가 없습니다.\n",
      "[6876947] API 오류: 조회된 데이터가 없습니다.\n",
      "[6876454] API 오류: 조회된 데이터가 없습니다.\n",
      "[6875441] API 오류: 조회된 데이터가 없습니다.\n",
      "[6870886] API 오류: 조회된 데이터가 없습니다.\n",
      "[6872406] API 오류: 조회된 데이터가 없습니다.\n",
      "[6872402] API 오류: 조회된 데이터가 없습니다.\n",
      "[6873504] API 오류: 조회된 데이터가 없습니다.\n",
      "[6873483] API 오류: 조회된 데이터가 없습니다.\n",
      "[6872935] API 오류: 조회된 데이터가 없습니다.\n",
      "[6872628] 처리 중 예외 발생: Expecting value: line 1 column 1 (char 0)\n",
      "[6870963] API 오류: 조회된 데이터가 없습니다.\n",
      "[6870962] API 오류: 조회된 데이터가 없습니다.\n",
      "[6871466] API 오류: 조회된 데이터가 없습니다.\n",
      "[6869745] 처리 중 예외 발생: Expecting value: line 1 column 1 (char 0)\n",
      "[6869007] API 오류: 조회된 데이터가 없습니다.\n",
      "[6868677] API 오류: 조회된 데이터가 없습니다.\n",
      "[6868665] API 오류: 조회된 데이터가 없습니다.\n",
      "[6868672] API 오류: 조회된 데이터가 없습니다.\n",
      "[6868667] API 오류: 조회된 데이터가 없습니다.\n",
      "[6868662] API 오류: 조회된 데이터가 없습니다.\n",
      "[6868783] API 오류: 조회된 데이터가 없습니다.\n",
      "[6866433] 처리 중 예외 발생: Expecting value: line 1 column 1 (char 0)\n",
      "[6866333] API 오류: 조회된 데이터가 없습니다.\n",
      "[6866187] API 오류: 조회된 데이터가 없습니다.\n",
      "[6864482] API 오류: 조회된 데이터가 없습니다.\n",
      "[6863365] 처리 중 예외 발생: Expecting value: line 1 column 1 (char 0)\n"
     ]
    }
   ],
   "source": [
    "import sqlite3\n",
    "import requests\n",
    "import time  # 요청 간 텀 주기 위해\n",
    "\n",
    "# 인증키 및 API 기본 정보\n",
    "API_URL = 'http://apis.data.go.kr/1140100/CivilPolicyQnaService/PolicyQnaItem'\n",
    "API_KEY = d_key \n",
    "\n",
    "# SQLite 연결\n",
    "conn = sqlite3.connect('/home/tom/code/sinmun-go/note/faq20072.db')\n",
    "cursor = conn.cursor()\n",
    "\n",
    "# 상세 정보 저장용 테이블 생성\n",
    "cursor.execute('''\n",
    "CREATE TABLE IF NOT EXISTS faq_de (\n",
    "    faqNo TEXT PRIMARY KEY,\n",
    "    qnaTitl TEXT,\n",
    "    qstnCntnCl TEXT,\n",
    "    ansCntnCl TEXT,\n",
    "    ancName TEXT,\n",
    "    deptName TEXT,\n",
    "    regDate TEXT,\n",
    "    ancCode TEXT,\n",
    "    deptCode TEXT\n",
    ")\n",
    "''')\n",
    "\n",
    "i = 0\n",
    "\n",
    "# 루프 돌며 상세 정보 가져와 DB 저장\n",
    "for faqNo, dutySctnNm in faq_items:\n",
    "    params = {\n",
    "        'serviceKey': API_KEY,\n",
    "        'faqNo': faqNo,\n",
    "        'dutySctnNm': dutySctnNm\n",
    "    }\n",
    "\n",
    "    try:\n",
    "        response = requests.get(API_URL, params=params)\n",
    "        data = response.json()\n",
    "        if data['resultCode'] != 'S00':\n",
    "            print(f\"[{faqNo}] API 오류: {data['resultMessage']}\")\n",
    "            continue\n",
    "\n",
    "        item = data['resultData']\n",
    "        cursor.execute('''\n",
    "            INSERT OR REPLACE INTO faq_de (\n",
    "                faqNo, qnaTitl, qstnCntnCl, ansCntnCl,\n",
    "                ancName, deptName, regDate, ancCode, deptCode\n",
    "            ) VALUES (?, ?, ?, ?, ?, ?, ?, ?, ?)\n",
    "        ''', (\n",
    "            item.get('faqNo'),\n",
    "            item.get('qnaTitl'),\n",
    "            item.get('qstnCntnCl'),\n",
    "            item.get('ansCntnCl'),\n",
    "            item.get('ancName'),\n",
    "            item.get('deptName'),\n",
    "            item.get('regDate'),\n",
    "            item.get('ancCode'),\n",
    "            item.get('deptCode')\n",
    "        ))\n",
    "        # print(f\"[{faqNo}] 저장 완료\")\n",
    "        # time.sleep(0.3)  # 과도한 요청 방지\n",
    "        i = i + 1\n",
    "        if i % 100 == 0:\n",
    "            print(f\"[{faqNo}] {i}개 저장됨\")\n",
    "            conn.commit()\n",
    "            time.sleep(0.3)  # 과도한 요청 방지\n",
    "\n",
    "    except Exception as e:\n",
    "        print(f\"[{faqNo}] 처리 중 예외 발생: {e}\")\n",
    "\n",
    "# 저장 및 종료\n",
    "conn.commit()\n",
    "conn.close()\n"
   ]
  }
 ],
 "metadata": {
  "kernelspec": {
   "display_name": ".venv",
   "language": "python",
   "name": "python3"
  },
  "language_info": {
   "codemirror_mode": {
    "name": "ipython",
    "version": 3
   },
   "file_extension": ".py",
   "mimetype": "text/x-python",
   "name": "python",
   "nbconvert_exporter": "python",
   "pygments_lexer": "ipython3",
   "version": "3.10.12"
  }
 },
 "nbformat": 4,
 "nbformat_minor": 5
}
