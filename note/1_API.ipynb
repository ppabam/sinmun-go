{
 "cells": [
  {
   "cell_type": "code",
   "execution_count": 1,
   "id": "ec7f55c9-de38-4e42-94b8-c8a3345f6e19",
   "metadata": {},
   "outputs": [],
   "source": [
    "import requests"
   ]
  },
  {
   "cell_type": "code",
   "execution_count": 2,
   "id": "d8d21698-8d4b-4e8d-aabd-c97f47adb6eb",
   "metadata": {},
   "outputs": [],
   "source": [
    "# 민원정책 질의응답조회서비스\n",
    "url = 'http://apis.data.go.kr/1140100/CivilPolicyQnaService/PolicyQnaList'\n",
    "\n"
   ]
  },
  {
   "cell_type": "code",
   "execution_count": 3,
   "id": "cf13e5a7",
   "metadata": {},
   "outputs": [],
   "source": [
    "import os\n",
    "e_key = os.getenv('SINNUNGO_ENCODING_KEY', 'ABCDEFGHIJKLMNOPQRSTUVWXYZabcdefghijklmnopqrstuvwxyz0123456789')\n",
    "d_key = os.getenv('SINNUNGO_DECODING_KEY', 'ABCDEFGHIJKLMNOPQRSTUVWXYZabcdefghijklmnopqrstuvwxyz0123456789')"
   ]
  },
  {
   "cell_type": "code",
   "execution_count": 16,
   "id": "324a4c94-352f-4640-8655-400ff031556c",
   "metadata": {},
   "outputs": [
    {
     "data": {
      "text/plain": [
       "224"
      ]
     },
     "execution_count": 16,
     "metadata": {},
     "output_type": "execute_result"
    }
   ],
   "source": [
    "# 민원정책 질의응답조회서비스\n",
    "url = 'http://apis.data.go.kr/1140100/CivilPolicyQnaService/PolicyQnaList'\n",
    "\n",
    "params ={\n",
    "    'serviceKey' : d_key, \n",
    "    'firstIndex' : '1', \n",
    "    'recordCountPerPage' : '30000', \n",
    "    # 'type' : '1', \n",
    "    # 'keyword' : '궁금', \n",
    "    # 'searchType' : '1', \n",
    "    'regFrom' : '20240507', \n",
    "    'regTo' : '20240509' \n",
    "}\n",
    "\n",
    "response = requests.get(url, params=params)\n",
    "response.text\n",
    "r = response.json()\n",
    "faq_list = r['resultList']\n",
    "len(faq_list)\n"
   ]
  },
  {
   "cell_type": "code",
   "execution_count": 27,
   "id": "423d3a23",
   "metadata": {},
   "outputs": [
    {
     "name": "stdout",
     "output_type": "stream",
     "text": [
      "20072\n",
      "2025-05-07 17:18:15\n"
     ]
    }
   ],
   "source": [
    "print(len(faq_list))\n",
    "\n",
    "from datetime import datetime\n",
    "\n",
    "now = datetime.now()\n",
    "print(now.strftime(\"%Y-%m-%d %H:%M:%S\"))\n",
    "\n"
   ]
  },
  {
   "cell_type": "code",
   "execution_count": 24,
   "id": "e995bd53",
   "metadata": {},
   "outputs": [
    {
     "data": {
      "text/plain": [
       "20072"
      ]
     },
     "execution_count": 24,
     "metadata": {},
     "output_type": "execute_result"
    }
   ],
   "source": [
    "l = data['resultList']\n",
    "len(l)"
   ]
  },
  {
   "cell_type": "markdown",
   "id": "7f81c1d1",
   "metadata": {},
   "source": [
    "# 민원정책 질의응답 항목 조회"
   ]
  },
  {
   "cell_type": "code",
   "execution_count": 4,
   "id": "7aecff37",
   "metadata": {},
   "outputs": [
    {
     "data": {
      "text/plain": [
       "{'resultCode': 'S00',\n",
       " 'resultMessage': '1(건) 조회되었습니다.',\n",
       " 'resultData': {'faqNo': '6859437',\n",
       "  'dutySctnNm': 'tqapttn',\n",
       "  'qnaTitl': '경기도 과천시에서 공급되는 주택의 해당 주택건설지역의 범위는?',\n",
       "  'qstnCntnCl': '경기도 과천시에서 공급되는 주택의 해당 주택건설지역의 범위는?',\n",
       "  'ansCntnCl': '&lt;span style=&quot;font-family:KoPub돋움체 Light&quot;&gt;해당 주택건설지역이란 특별시ㆍ광역시ㆍ특별자치시ㆍ&lt;/span&gt;&lt;a&gt;&lt;span style=&quot;font-family:KoPub돋움체 Light&quot;&gt;특별자치도&lt;/span&gt;(&lt;span style=&quot;font-family:KoPub돋움체 Light&quot;&gt;관할 구역 안에 지방자치단체인 시ㆍ군이 없는 특별자치도를 말한다&lt;/span&gt;)&lt;/a&gt; &lt;span style=&quot;font-family:KoPub돋움체 Light&quot;&gt;또는 시ㆍ군의 행정구역을 말합니다&lt;/span&gt;. &lt;span style=&quot;font-family:KoPub돋움체 Light&quot;&gt;따라서&lt;/span&gt;, &lt;span style=&quot;font-family:KoPub돋움체 Light&quot;&gt;경기도 과천시에서 공급하는 주택의 경우 과천시가 해당 주택건설지역에 해당됩니다&lt;/span&gt;.&lt;br /&gt;\\n&lt;span style=&quot;font-family:KoPub돋움체 Light&quot;&gt;참&lt;/span&gt;&lt;span style=&quot;font-family:KoPub돋움체 Light&quot;&gt;고로&lt;/span&gt;, &lt;span style=&quot;font-family:KoPub돋움체 Light&quot;&gt;서울특별시에서 공급되는 주택의 경우 서울특별시 전역&lt;/span&gt;, &lt;span style=&quot;font-family:KoPub돋움체 Light&quot;&gt;인천광역시의 경우 인천광역시&lt;/span&gt; &lt;span style=&quot;font-family:KoPub돋움체 Light&quot;&gt;전역이 해당 주택건설지역에 해당됩니다&lt;/span&gt;.\\n&lt;div class=&quot;hwp_editor_board_content&quot;&gt;&nbsp;&lt;/div&gt;\\n',\n",
       "  'ancName': '국토교통부',\n",
       "  'deptName': '국토교통부 주택토지실 주택정책관 주택기금과',\n",
       "  'regDate': '20240424',\n",
       "  'ancCode': '1613000',\n",
       "  'deptCode': '1613039',\n",
       "  'lawList': [{'fullName': '주택공급에 관한 규칙 / ',\n",
       "    'lwrdNm': '주택공급에 관한 규칙',\n",
       "    'lwrdUrl': 'http://law.go.kr/법령/주택공급에 관한 규칙'}],\n",
       "  'subjList': []},\n",
       " 'resultDebug': '2025-05-01 19:01:07, eapi22'}"
      ]
     },
     "execution_count": 4,
     "metadata": {},
     "output_type": "execute_result"
    }
   ],
   "source": [
    "url = 'http://apis.data.go.kr/1140100/CivilPolicyQnaService/PolicyQnaItem'\n",
    "\n",
    "params ={\n",
    "    'serviceKey' : d_key,\n",
    "    'faqNo': 6859437,\n",
    "    'dutySctnNm': 'tqapttn'\n",
    "}\n",
    "\n",
    "response = requests.get(url, params=params)\n",
    "response.json()"
   ]
  },
  {
   "cell_type": "markdown",
   "id": "7a609300",
   "metadata": {},
   "source": []
  },
  {
   "cell_type": "code",
   "execution_count": 74,
   "id": "66060546",
   "metadata": {},
   "outputs": [
    {
     "data": {
      "text/plain": [
       "{'resultCode': 'E03',\n",
       " 'resultMessage': '조회된 데이터가 없습니다.',\n",
       " 'resultDebug': '2025-05-01 19:01:07, eapi22'}"
      ]
     },
     "execution_count": 74,
     "metadata": {},
     "output_type": "execute_result"
    }
   ],
   "source": [
    "url = 'http://apis.data.go.kr/1140100/CivilPolicyQnaService/PolicyQnaItem'\n",
    "\n",
    "params ={\n",
    "    'serviceKey' : d_key,\n",
    "    'faqNo': 1192000,\n",
    "    'dutySctnNm': 'tqaplcy'\n",
    "}\n",
    "\n",
    "response = requests.get(url, params=params)\n",
    "response.json()"
   ]
  },
  {
   "cell_type": "markdown",
   "id": "2432f4f8",
   "metadata": {},
   "source": [
    "# DB 에 저장"
   ]
  },
  {
   "cell_type": "markdown",
   "id": "46065ce8",
   "metadata": {},
   "source": []
  },
  {
   "cell_type": "code",
   "execution_count": 7,
   "id": "0dfaf0b1",
   "metadata": {},
   "outputs": [],
   "source": [
    "import sqlite3\n",
    "import json"
   ]
  },
  {
   "cell_type": "code",
   "execution_count": 20,
   "id": "fe76597b",
   "metadata": {},
   "outputs": [
    {
     "data": {
      "text/plain": [
       "dict"
      ]
     },
     "execution_count": 20,
     "metadata": {},
     "output_type": "execute_result"
    }
   ],
   "source": [
    "type(data)"
   ]
  },
  {
   "cell_type": "code",
   "execution_count": 25,
   "id": "5602b33d",
   "metadata": {},
   "outputs": [
    {
     "data": {
      "text/plain": [
       "{'dutySctnNm': 'tqapttn',\n",
       " 'ancCode': '7480000',\n",
       " 'ancName': '울산광역시교육청',\n",
       " 'regDate': '20250506092434',\n",
       " 'title': '울산마을교육공동체 시설 이용 관련 안내',\n",
       " 'faqNo': '6882492'}"
      ]
     },
     "execution_count": 25,
     "metadata": {},
     "output_type": "execute_result"
    }
   ],
   "source": [
    "data['resultList'][1]"
   ]
  },
  {
   "cell_type": "code",
   "execution_count": 26,
   "id": "e180e985",
   "metadata": {},
   "outputs": [
    {
     "data": {
      "text/plain": [
       "20072"
      ]
     },
     "execution_count": 26,
     "metadata": {},
     "output_type": "execute_result"
    }
   ],
   "source": [
    "len(data['resultList'])"
   ]
  },
  {
   "cell_type": "code",
   "execution_count": 18,
   "id": "f724a7c5",
   "metadata": {},
   "outputs": [],
   "source": [
    "# SQLite DB 연결 (없으면 생성됨)\n",
    "conn = sqlite3.connect('faq20072.db')\n",
    "cursor = conn.cursor()"
   ]
  },
  {
   "cell_type": "code",
   "execution_count": 28,
   "id": "bc0ddf1f",
   "metadata": {},
   "outputs": [
    {
     "data": {
      "text/plain": [
       "<sqlite3.Cursor at 0x7f05ee1ba9c0>"
      ]
     },
     "execution_count": 28,
     "metadata": {},
     "output_type": "execute_result"
    }
   ],
   "source": [
    "cursor.execute('''\n",
    "CREATE TABLE IF NOT EXISTS faq (\n",
    "    faqNo TEXT PRIMARY KEY,\n",
    "    dutySctnNm TEXT,\n",
    "    ancCode TEXT,\n",
    "    ancName TEXT,\n",
    "    regDate TEXT,\n",
    "    title TEXT\n",
    ")\n",
    "''')"
   ]
  },
  {
   "cell_type": "code",
   "execution_count": null,
   "id": "3adccf29",
   "metadata": {},
   "outputs": [
    {
     "ename": "IntegrityError",
     "evalue": "UNIQUE constraint failed: faq.faqNo",
     "output_type": "error",
     "traceback": [
      "\u001b[0;31m---------------------------------------------------------------------------\u001b[0m",
      "\u001b[0;31mIntegrityError\u001b[0m                            Traceback (most recent call last)",
      "Cell \u001b[0;32mIn[19], line 3\u001b[0m\n\u001b[1;32m      1\u001b[0m \u001b[38;5;66;03m# 데이터 삽입\u001b[39;00m\n\u001b[1;32m      2\u001b[0m \u001b[38;5;28;01mfor\u001b[39;00m item \u001b[38;5;129;01min\u001b[39;00m faq_list:\n\u001b[0;32m----> 3\u001b[0m     \u001b[43mcursor\u001b[49m\u001b[38;5;241;43m.\u001b[39;49m\u001b[43mexecute\u001b[49m\u001b[43m(\u001b[49m\u001b[38;5;124;43m'''\u001b[39;49m\n\u001b[1;32m      4\u001b[0m \u001b[38;5;124;43m        INSERT INTO faq (faqNo, dutySctnNm, ancCode, ancName, regDate, title)\u001b[39;49m\n\u001b[1;32m      5\u001b[0m \u001b[38;5;124;43m        VALUES (?, ?, ?, ?, ?, ?)\u001b[39;49m\n\u001b[1;32m      6\u001b[0m \u001b[38;5;124;43m    \u001b[39;49m\u001b[38;5;124;43m'''\u001b[39;49m\u001b[43m,\u001b[49m\u001b[43m \u001b[49m\u001b[43m(\u001b[49m\n\u001b[1;32m      7\u001b[0m \u001b[43m        \u001b[49m\u001b[43mitem\u001b[49m\u001b[43m[\u001b[49m\u001b[38;5;124;43m'\u001b[39;49m\u001b[38;5;124;43mfaqNo\u001b[39;49m\u001b[38;5;124;43m'\u001b[39;49m\u001b[43m]\u001b[49m\u001b[43m,\u001b[49m\n\u001b[1;32m      8\u001b[0m \u001b[43m        \u001b[49m\u001b[43mitem\u001b[49m\u001b[43m[\u001b[49m\u001b[38;5;124;43m'\u001b[39;49m\u001b[38;5;124;43mdutySctnNm\u001b[39;49m\u001b[38;5;124;43m'\u001b[39;49m\u001b[43m]\u001b[49m\u001b[43m,\u001b[49m\n\u001b[1;32m      9\u001b[0m \u001b[43m        \u001b[49m\u001b[43mitem\u001b[49m\u001b[43m[\u001b[49m\u001b[38;5;124;43m'\u001b[39;49m\u001b[38;5;124;43mancCode\u001b[39;49m\u001b[38;5;124;43m'\u001b[39;49m\u001b[43m]\u001b[49m\u001b[43m,\u001b[49m\n\u001b[1;32m     10\u001b[0m \u001b[43m        \u001b[49m\u001b[43mitem\u001b[49m\u001b[43m[\u001b[49m\u001b[38;5;124;43m'\u001b[39;49m\u001b[38;5;124;43mancName\u001b[39;49m\u001b[38;5;124;43m'\u001b[39;49m\u001b[43m]\u001b[49m\u001b[43m,\u001b[49m\n\u001b[1;32m     11\u001b[0m \u001b[43m        \u001b[49m\u001b[43mitem\u001b[49m\u001b[43m[\u001b[49m\u001b[38;5;124;43m'\u001b[39;49m\u001b[38;5;124;43mregDate\u001b[39;49m\u001b[38;5;124;43m'\u001b[39;49m\u001b[43m]\u001b[49m\u001b[43m,\u001b[49m\n\u001b[1;32m     12\u001b[0m \u001b[43m        \u001b[49m\u001b[43mitem\u001b[49m\u001b[43m[\u001b[49m\u001b[38;5;124;43m'\u001b[39;49m\u001b[38;5;124;43mtitle\u001b[39;49m\u001b[38;5;124;43m'\u001b[39;49m\u001b[43m]\u001b[49m\n\u001b[1;32m     13\u001b[0m \u001b[43m    \u001b[49m\u001b[43m)\u001b[49m\u001b[43m)\u001b[49m\n",
      "\u001b[0;31mIntegrityError\u001b[0m: UNIQUE constraint failed: faq.faqNo"
     ]
    }
   ],
   "source": [
    "# 데이터 삽입\n",
    "for item in faq_list:\n",
    "    try:\n",
    "        cursor.execute('''\n",
    "            INSERT INTO faq (faqNo, dutySctnNm, ancCode, ancName, regDate, title)\n",
    "            VALUES (?, ?, ?, ?, ?, ?)\n",
    "        ''', (\n",
    "            item['faqNo'],\n",
    "            item['dutySctnNm'],\n",
    "            item['ancCode'],\n",
    "            item['ancName'],\n",
    "            item['regDate'],\n",
    "            item['title']\n",
    "        ))\n",
    "    except sqlite3.IntegrityError:\n",
    "        print(f\"Duplicate entry for faqNo: {item['faqNo']}\")"
   ]
  },
  {
   "cell_type": "code",
   "execution_count": 12,
   "id": "fb9fa79b",
   "metadata": {},
   "outputs": [
    {
     "ename": "ProgrammingError",
     "evalue": "Cannot operate on a closed database.",
     "output_type": "error",
     "traceback": [
      "\u001b[0;31m---------------------------------------------------------------------------\u001b[0m",
      "\u001b[0;31mProgrammingError\u001b[0m                          Traceback (most recent call last)",
      "Cell \u001b[0;32mIn[12], line 2\u001b[0m\n\u001b[1;32m      1\u001b[0m \u001b[38;5;66;03m# 저장 및 종료\u001b[39;00m\n\u001b[0;32m----> 2\u001b[0m \u001b[43mconn\u001b[49m\u001b[38;5;241;43m.\u001b[39;49m\u001b[43mcommit\u001b[49m\u001b[43m(\u001b[49m\u001b[43m)\u001b[49m\n\u001b[1;32m      3\u001b[0m conn\u001b[38;5;241m.\u001b[39mclose()\n",
      "\u001b[0;31mProgrammingError\u001b[0m: Cannot operate on a closed database."
     ]
    }
   ],
   "source": [
    "# 저장 및 종료\n",
    "conn.commit()\n",
    "conn.close()"
   ]
  },
  {
   "cell_type": "markdown",
   "id": "1bb12d22",
   "metadata": {},
   "source": [
    "# 디테일 입수"
   ]
  },
  {
   "cell_type": "code",
   "execution_count": 7,
   "id": "df718011",
   "metadata": {},
   "outputs": [
    {
     "data": {
      "text/plain": [
       "53"
      ]
     },
     "execution_count": 7,
     "metadata": {},
     "output_type": "execute_result"
    }
   ],
   "source": [
    "import sqlite3\n",
    "\n",
    "conn = sqlite3.connect('/home/tom/code/sinmun-go/note/faq20072.db')\n",
    "cursor = conn.cursor()\n",
    "\n",
    "# faq 테이블에서 필요한 항목 조회\n",
    "# cursor.execute('SELECT faqNo, dutySctnNm FROM faq ORDER BY faqNo')\n",
    "# LEFT JOIN을 사용하여 faq_de에 없는 항목만 가져오기\n",
    "cursor.execute('''SELECT f.faqNo, f.dutySctnNm \n",
    "FROM faq f\n",
    "LEFT JOIN faq_de d ON f.faqNo = d.faqNo\n",
    "WHERE d.faqNo IS NULL''')\n",
    "\n",
    "faq_items = cursor.fetchall()\n",
    "\n",
    "conn.commit()\n",
    "conn.close()\n",
    "\n",
    "len(faq_items)\n"
   ]
  },
  {
   "cell_type": "code",
   "execution_count": 9,
   "id": "e06942f9",
   "metadata": {},
   "outputs": [
    {
     "name": "stdout",
     "output_type": "stream",
     "text": [
      "[6881095] API 오류: 조회된 데이터가 없습니다.\n",
      "[6881433] API 오류: 조회된 데이터가 없습니다.\n",
      "[6881466] API 오류: 조회된 데이터가 없습니다.\n",
      "[6880775] API 오류: 조회된 데이터가 없습니다.\n",
      "[6880235] API 오류: 조회된 데이터가 없습니다.\n",
      "[6873621] API 오류: 조회된 데이터가 없습니다.\n",
      "[6867062] API 오류: 조회된 데이터가 없습니다.\n",
      "[6876947] API 오류: 조회된 데이터가 없습니다.\n",
      "[6876454] API 오류: 조회된 데이터가 없습니다.\n",
      "[6875441] API 오류: 조회된 데이터가 없습니다.\n",
      "[6870886] API 오류: 조회된 데이터가 없습니다.\n",
      "[6872406] API 오류: 조회된 데이터가 없습니다.\n",
      "[6872402] API 오류: 조회된 데이터가 없습니다.\n",
      "[6873504] API 오류: 조회된 데이터가 없습니다.\n",
      "[6873483] API 오류: 조회된 데이터가 없습니다.\n",
      "[6872935] API 오류: 조회된 데이터가 없습니다.\n",
      "[6872628] 처리 중 예외 발생: Expecting value: line 1 column 1 (char 0)\n",
      "[6870963] API 오류: 조회된 데이터가 없습니다.\n",
      "[6870962] API 오류: 조회된 데이터가 없습니다.\n",
      "[6871466] API 오류: 조회된 데이터가 없습니다.\n",
      "[6869745] 처리 중 예외 발생: Expecting value: line 1 column 1 (char 0)\n",
      "[6869007] API 오류: 조회된 데이터가 없습니다.\n",
      "[6868677] API 오류: 조회된 데이터가 없습니다.\n",
      "[6868665] API 오류: 조회된 데이터가 없습니다.\n",
      "[6868672] API 오류: 조회된 데이터가 없습니다.\n",
      "[6868667] API 오류: 조회된 데이터가 없습니다.\n",
      "[6868662] API 오류: 조회된 데이터가 없습니다.\n",
      "[6868783] API 오류: 조회된 데이터가 없습니다.\n",
      "[6866433] 처리 중 예외 발생: Expecting value: line 1 column 1 (char 0)\n",
      "[6866333] API 오류: 조회된 데이터가 없습니다.\n",
      "[6866187] API 오류: 조회된 데이터가 없습니다.\n",
      "[6864482] API 오류: 조회된 데이터가 없습니다.\n",
      "[6863365] 처리 중 예외 발생: Expecting value: line 1 column 1 (char 0)\n"
     ]
    }
   ],
   "source": [
    "import sqlite3\n",
    "import requests\n",
    "import time  # 요청 간 텀 주기 위해\n",
    "\n",
    "# 인증키 및 API 기본 정보\n",
    "API_URL = 'http://apis.data.go.kr/1140100/CivilPolicyQnaService/PolicyQnaItem'\n",
    "API_KEY = d_key \n",
    "\n",
    "# SQLite 연결\n",
    "conn = sqlite3.connect('/home/tom/code/sinmun-go/note/faq20072.db')\n",
    "cursor = conn.cursor()\n",
    "\n",
    "# 상세 정보 저장용 테이블 생성\n",
    "cursor.execute('''\n",
    "CREATE TABLE IF NOT EXISTS faq_de (\n",
    "    faqNo TEXT PRIMARY KEY,\n",
    "    qnaTitl TEXT,\n",
    "    qstnCntnCl TEXT,\n",
    "    ansCntnCl TEXT,\n",
    "    ancName TEXT,\n",
    "    deptName TEXT,\n",
    "    regDate TEXT,\n",
    "    ancCode TEXT,\n",
    "    deptCode TEXT\n",
    ")\n",
    "''')\n",
    "\n",
    "i = 0\n",
    "\n",
    "# 루프 돌며 상세 정보 가져와 DB 저장\n",
    "for faqNo, dutySctnNm in faq_items:\n",
    "    params = {\n",
    "        'serviceKey': API_KEY,\n",
    "        'faqNo': faqNo,\n",
    "        'dutySctnNm': dutySctnNm\n",
    "    }\n",
    "\n",
    "    try:\n",
    "        response = requests.get(API_URL, params=params)\n",
    "        data = response.json()\n",
    "        if data['resultCode'] != 'S00':\n",
    "            print(f\"[{faqNo}] API 오류: {data['resultMessage']}\")\n",
    "            continue\n",
    "\n",
    "        item = data['resultData']\n",
    "        cursor.execute('''\n",
    "            INSERT OR REPLACE INTO faq_de (\n",
    "                faqNo, qnaTitl, qstnCntnCl, ansCntnCl,\n",
    "                ancName, deptName, regDate, ancCode, deptCode\n",
    "            ) VALUES (?, ?, ?, ?, ?, ?, ?, ?, ?)\n",
    "        ''', (\n",
    "            item.get('faqNo'),\n",
    "            item.get('qnaTitl'),\n",
    "            item.get('qstnCntnCl'),\n",
    "            item.get('ansCntnCl'),\n",
    "            item.get('ancName'),\n",
    "            item.get('deptName'),\n",
    "            item.get('regDate'),\n",
    "            item.get('ancCode'),\n",
    "            item.get('deptCode')\n",
    "        ))\n",
    "        # print(f\"[{faqNo}] 저장 완료\")\n",
    "        # time.sleep(0.3)  # 과도한 요청 방지\n",
    "        i = i + 1\n",
    "        if i % 100 == 0:\n",
    "            print(f\"[{faqNo}] {i}개 저장됨\")\n",
    "            conn.commit()\n",
    "            time.sleep(0.3)  # 과도한 요청 방지\n",
    "\n",
    "    except Exception as e:\n",
    "        print(f\"[{faqNo}] 처리 중 예외 발생: {e}\")\n",
    "\n",
    "# 저장 및 종료\n",
    "conn.commit()\n",
    "conn.close()\n"
   ]
  }
 ],
 "metadata": {
  "kernelspec": {
   "display_name": ".venv",
   "language": "python",
   "name": "python3"
  },
  "language_info": {
   "codemirror_mode": {
    "name": "ipython",
    "version": 3
   },
   "file_extension": ".py",
   "mimetype": "text/x-python",
   "name": "python",
   "nbconvert_exporter": "python",
   "pygments_lexer": "ipython3",
   "version": "3.10.12"
  }
 },
 "nbformat": 4,
 "nbformat_minor": 5
}
