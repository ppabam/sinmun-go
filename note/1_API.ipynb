{
 "cells": [
  {
   "cell_type": "code",
   "execution_count": 4,
   "id": "ec7f55c9-de38-4e42-94b8-c8a3345f6e19",
   "metadata": {},
   "outputs": [],
   "source": [
    "import requests"
   ]
  },
  {
   "cell_type": "code",
   "execution_count": 5,
   "id": "d8d21698-8d4b-4e8d-aabd-c97f47adb6eb",
   "metadata": {},
   "outputs": [],
   "source": [
    "# 민원정책 질의응답조회서비스\n",
    "url = 'http://apis.data.go.kr/1140100/CivilPolicyQnaService/PolicyQnaList'\n",
    "\n"
   ]
  },
  {
   "cell_type": "code",
   "execution_count": 6,
   "id": "cf13e5a7",
   "metadata": {},
   "outputs": [],
   "source": [
    "import os\n",
    "e_key = os.getenv('SINNUNGO_ENCODING_KEY', 'ABCDEFGHIJKLMNOPQRSTUVWXYZabcdefghijklmnopqrstuvwxyz0123456789')\n",
    "d_key = os.getenv('SINNUNGO_DECODING_KEY', 'ABCDEFGHIJKLMNOPQRSTUVWXYZabcdefghijklmnopqrstuvwxyz0123456789')"
   ]
  },
  {
   "cell_type": "code",
   "execution_count": null,
   "id": "324a4c94-352f-4640-8655-400ff031556c",
   "metadata": {},
   "outputs": [
    {
     "data": {
      "text/plain": [
       "20072"
      ]
     },
     "execution_count": 25,
     "metadata": {},
     "output_type": "execute_result"
    }
   ],
   "source": [
    "# 민원정책 질의응답조회서비스\n",
    "url = 'http://apis.data.go.kr/1140100/CivilPolicyQnaService/PolicyQnaList'\n",
    "\n",
    "params ={\n",
    "    'serviceKey' : d_key, \n",
    "    'firstIndex' : '1', \n",
    "    'recordCountPerPage' : '30000', \n",
    "    # 'type' : '1', \n",
    "    # 'keyword' : '궁금', \n",
    "    # 'searchType' : '1', \n",
    "    # 'regFrom' : '20240506', \n",
    "    # 'regTo' : '20240508' \n",
    "}\n",
    "\n",
    "response = requests.get(url, params=params)\n",
    "r = response.json()\n",
    "faq_list = r['resultList']\n",
    "len(faq_list)\n"
   ]
  },
  {
   "cell_type": "code",
   "execution_count": 27,
   "id": "423d3a23",
   "metadata": {},
   "outputs": [
    {
     "name": "stdout",
     "output_type": "stream",
     "text": [
      "20072\n",
      "2025-05-07 17:18:15\n"
     ]
    }
   ],
   "source": [
    "print(len(faq_list))\n",
    "\n",
    "from datetime import datetime\n",
    "\n",
    "now = datetime.now()\n",
    "print(now.strftime(\"%Y-%m-%d %H:%M:%S\"))\n",
    "\n"
   ]
  },
  {
   "cell_type": "code",
   "execution_count": 24,
   "id": "e995bd53",
   "metadata": {},
   "outputs": [
    {
     "data": {
      "text/plain": [
       "20072"
      ]
     },
     "execution_count": 24,
     "metadata": {},
     "output_type": "execute_result"
    }
   ],
   "source": [
    "l = data['resultList']\n",
    "len(l)"
   ]
  },
  {
   "cell_type": "markdown",
   "id": "7f81c1d1",
   "metadata": {},
   "source": [
    "# 민원정책 질의응답 항목 조회"
   ]
  },
  {
   "cell_type": "code",
   "execution_count": 59,
   "id": "7aecff37",
   "metadata": {},
   "outputs": [
    {
     "data": {
      "text/plain": [
       "{'resultCode': 'S00',\n",
       " 'resultMessage': '1(건) 조회되었습니다.',\n",
       " 'resultData': {'faqNo': '6859437',\n",
       "  'dutySctnNm': 'tqapttn',\n",
       "  'qnaTitl': '경기도 과천시에서 공급되는 주택의 해당 주택건설지역의 범위는?',\n",
       "  'qstnCntnCl': '경기도 과천시에서 공급되는 주택의 해당 주택건설지역의 범위는?',\n",
       "  'ansCntnCl': '&lt;span style=&quot;font-family:KoPub돋움체 Light&quot;&gt;해당 주택건설지역이란 특별시ㆍ광역시ㆍ특별자치시ㆍ&lt;/span&gt;&lt;a&gt;&lt;span style=&quot;font-family:KoPub돋움체 Light&quot;&gt;특별자치도&lt;/span&gt;(&lt;span style=&quot;font-family:KoPub돋움체 Light&quot;&gt;관할 구역 안에 지방자치단체인 시ㆍ군이 없는 특별자치도를 말한다&lt;/span&gt;)&lt;/a&gt; &lt;span style=&quot;font-family:KoPub돋움체 Light&quot;&gt;또는 시ㆍ군의 행정구역을 말합니다&lt;/span&gt;. &lt;span style=&quot;font-family:KoPub돋움체 Light&quot;&gt;따라서&lt;/span&gt;, &lt;span style=&quot;font-family:KoPub돋움체 Light&quot;&gt;경기도 과천시에서 공급하는 주택의 경우 과천시가 해당 주택건설지역에 해당됩니다&lt;/span&gt;.&lt;br /&gt;\\n&lt;span style=&quot;font-family:KoPub돋움체 Light&quot;&gt;참&lt;/span&gt;&lt;span style=&quot;font-family:KoPub돋움체 Light&quot;&gt;고로&lt;/span&gt;, &lt;span style=&quot;font-family:KoPub돋움체 Light&quot;&gt;서울특별시에서 공급되는 주택의 경우 서울특별시 전역&lt;/span&gt;, &lt;span style=&quot;font-family:KoPub돋움체 Light&quot;&gt;인천광역시의 경우 인천광역시&lt;/span&gt; &lt;span style=&quot;font-family:KoPub돋움체 Light&quot;&gt;전역이 해당 주택건설지역에 해당됩니다&lt;/span&gt;.\\n&lt;div class=&quot;hwp_editor_board_content&quot;&gt;&nbsp;&lt;/div&gt;\\n',\n",
       "  'ancName': '국토교통부',\n",
       "  'deptName': '국토교통부 주택토지실 주택정책관 주택기금과',\n",
       "  'regDate': '20240424',\n",
       "  'ancCode': '1613000',\n",
       "  'deptCode': '1613039',\n",
       "  'lawList': [{'fullName': '주택공급에 관한 규칙 / ',\n",
       "    'lwrdNm': '주택공급에 관한 규칙',\n",
       "    'lwrdUrl': 'http://law.go.kr/법령/주택공급에 관한 규칙'}],\n",
       "  'subjList': []},\n",
       " 'resultDebug': '2025-05-01 19:01:07, eapi22'}"
      ]
     },
     "execution_count": 59,
     "metadata": {},
     "output_type": "execute_result"
    }
   ],
   "source": [
    "url = 'http://apis.data.go.kr/1140100/CivilPolicyQnaService/PolicyQnaItem'\n",
    "\n",
    "params ={\n",
    "    'serviceKey' : d_key,\n",
    "    'faqNo': 6859437,\n",
    "    'dutySctnNm': 'tqapttn'\n",
    "}\n",
    "\n",
    "response = requests.get(url, params=params)\n",
    "response.json()"
   ]
  },
  {
   "cell_type": "markdown",
   "id": "7a609300",
   "metadata": {},
   "source": []
  },
  {
   "cell_type": "code",
   "execution_count": 74,
   "id": "66060546",
   "metadata": {},
   "outputs": [
    {
     "data": {
      "text/plain": [
       "{'resultCode': 'E03',\n",
       " 'resultMessage': '조회된 데이터가 없습니다.',\n",
       " 'resultDebug': '2025-05-01 19:01:07, eapi22'}"
      ]
     },
     "execution_count": 74,
     "metadata": {},
     "output_type": "execute_result"
    }
   ],
   "source": [
    "url = 'http://apis.data.go.kr/1140100/CivilPolicyQnaService/PolicyQnaItem'\n",
    "\n",
    "params ={\n",
    "    'serviceKey' : d_key,\n",
    "    'faqNo': 1192000,\n",
    "    'dutySctnNm': 'tqaplcy'\n",
    "}\n",
    "\n",
    "response = requests.get(url, params=params)\n",
    "response.json()"
   ]
  },
  {
   "cell_type": "markdown",
   "id": "2432f4f8",
   "metadata": {},
   "source": [
    "# DB 에 저장"
   ]
  },
  {
   "cell_type": "markdown",
   "id": "46065ce8",
   "metadata": {},
   "source": []
  },
  {
   "cell_type": "code",
   "execution_count": 19,
   "id": "0dfaf0b1",
   "metadata": {},
   "outputs": [],
   "source": [
    "import sqlite3\n",
    "import json"
   ]
  },
  {
   "cell_type": "code",
   "execution_count": 20,
   "id": "fe76597b",
   "metadata": {},
   "outputs": [
    {
     "data": {
      "text/plain": [
       "dict"
      ]
     },
     "execution_count": 20,
     "metadata": {},
     "output_type": "execute_result"
    }
   ],
   "source": [
    "type(data)"
   ]
  },
  {
   "cell_type": "code",
   "execution_count": 25,
   "id": "5602b33d",
   "metadata": {},
   "outputs": [
    {
     "data": {
      "text/plain": [
       "{'dutySctnNm': 'tqapttn',\n",
       " 'ancCode': '7480000',\n",
       " 'ancName': '울산광역시교육청',\n",
       " 'regDate': '20250506092434',\n",
       " 'title': '울산마을교육공동체 시설 이용 관련 안내',\n",
       " 'faqNo': '6882492'}"
      ]
     },
     "execution_count": 25,
     "metadata": {},
     "output_type": "execute_result"
    }
   ],
   "source": [
    "data['resultList'][1]"
   ]
  },
  {
   "cell_type": "code",
   "execution_count": 26,
   "id": "e180e985",
   "metadata": {},
   "outputs": [
    {
     "data": {
      "text/plain": [
       "20072"
      ]
     },
     "execution_count": 26,
     "metadata": {},
     "output_type": "execute_result"
    }
   ],
   "source": [
    "len(data['resultList'])"
   ]
  },
  {
   "cell_type": "code",
   "execution_count": 27,
   "id": "f724a7c5",
   "metadata": {},
   "outputs": [],
   "source": [
    "# SQLite DB 연결 (없으면 생성됨)\n",
    "conn = sqlite3.connect('faq20072.db')\n",
    "cursor = conn.cursor()"
   ]
  },
  {
   "cell_type": "code",
   "execution_count": 28,
   "id": "bc0ddf1f",
   "metadata": {},
   "outputs": [
    {
     "data": {
      "text/plain": [
       "<sqlite3.Cursor at 0x7f05ee1ba9c0>"
      ]
     },
     "execution_count": 28,
     "metadata": {},
     "output_type": "execute_result"
    }
   ],
   "source": [
    "cursor.execute('''\n",
    "CREATE TABLE IF NOT EXISTS faq (\n",
    "    faqNo TEXT PRIMARY KEY,\n",
    "    dutySctnNm TEXT,\n",
    "    ancCode TEXT,\n",
    "    ancName TEXT,\n",
    "    regDate TEXT,\n",
    "    title TEXT\n",
    ")\n",
    "''')"
   ]
  },
  {
   "cell_type": "code",
   "execution_count": 29,
   "id": "3adccf29",
   "metadata": {},
   "outputs": [],
   "source": [
    "# 데이터 삽입\n",
    "for item in data['resultList']:\n",
    "    cursor.execute('''\n",
    "        INSERT OR REPLACE INTO faq (faqNo, dutySctnNm, ancCode, ancName, regDate, title)\n",
    "        VALUES (?, ?, ?, ?, ?, ?)\n",
    "    ''', (\n",
    "        item['faqNo'],\n",
    "        item['dutySctnNm'],\n",
    "        item['ancCode'],\n",
    "        item['ancName'],\n",
    "        item['regDate'],\n",
    "        item['title']\n",
    "    ))"
   ]
  },
  {
   "cell_type": "code",
   "execution_count": 30,
   "id": "fb9fa79b",
   "metadata": {},
   "outputs": [],
   "source": [
    "# 저장 및 종료\n",
    "conn.commit()\n",
    "conn.close()"
   ]
  },
  {
   "cell_type": "code",
   "execution_count": null,
   "id": "b9078375",
   "metadata": {},
   "outputs": [],
   "source": []
  }
 ],
 "metadata": {
  "kernelspec": {
   "display_name": ".venv",
   "language": "python",
   "name": "python3"
  },
  "language_info": {
   "codemirror_mode": {
    "name": "ipython",
    "version": 3
   },
   "file_extension": ".py",
   "mimetype": "text/x-python",
   "name": "python",
   "nbconvert_exporter": "python",
   "pygments_lexer": "ipython3",
   "version": "3.10.12"
  }
 },
 "nbformat": 4,
 "nbformat_minor": 5
}
