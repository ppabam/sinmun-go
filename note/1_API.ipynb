{
 "cells": [
  {
   "cell_type": "code",
   "execution_count": 4,
   "id": "ec7f55c9-de38-4e42-94b8-c8a3345f6e19",
   "metadata": {},
   "outputs": [],
   "source": [
    "import requests"
   ]
  },
  {
   "cell_type": "code",
   "execution_count": 5,
   "id": "d8d21698-8d4b-4e8d-aabd-c97f47adb6eb",
   "metadata": {},
   "outputs": [],
   "source": [
    "# 민원정책 질의응답조회서비스\n",
    "url = 'http://apis.data.go.kr/1140100/CivilPolicyQnaService/PolicyQnaList'\n",
    "\n"
   ]
  },
  {
   "cell_type": "code",
   "execution_count": 2,
   "id": "cf13e5a7",
   "metadata": {},
   "outputs": [],
   "source": [
    "import os\n",
    "e_key = os.getenv('SINNUNGO_ENCODING_KEY', 'ABCDEFGHIJKLMNOPQRSTUVWXYZabcdefghijklmnopqrstuvwxyz0123456789')\n",
    "d_key = os.getenv('SINNUNGO_DECODING_KEY', 'ABCDEFGHIJKLMNOPQRSTUVWXYZabcdefghijklmnopqrstuvwxyz0123456789')"
   ]
  },
  {
   "cell_type": "code",
   "execution_count": null,
   "id": "324a4c94-352f-4640-8655-400ff031556c",
   "metadata": {},
   "outputs": [
    {
     "data": {
      "text/plain": [
       "20072"
      ]
     },
     "execution_count": 25,
     "metadata": {},
     "output_type": "execute_result"
    }
   ],
   "source": [
    "# 민원정책 질의응답조회서비스\n",
    "url = 'http://apis.data.go.kr/1140100/CivilPolicyQnaService/PolicyQnaList'\n",
    "\n",
    "params ={\n",
    "    'serviceKey' : d_key, \n",
    "    'firstIndex' : '1', \n",
    "    'recordCountPerPage' : '30000', \n",
    "    # 'type' : '1', \n",
    "    # 'keyword' : '궁금', \n",
    "    # 'searchType' : '1', \n",
    "    # 'regFrom' : '20240506', \n",
    "    # 'regTo' : '20240508' \n",
    "}\n",
    "\n",
    "response = requests.get(url, params=params)\n",
    "r = response.json()\n",
    "faq_list = r['resultList']\n",
    "len(faq_list)\n"
   ]
  },
  {
   "cell_type": "code",
   "execution_count": 27,
   "id": "423d3a23",
   "metadata": {},
   "outputs": [
    {
     "name": "stdout",
     "output_type": "stream",
     "text": [
      "20072\n",
      "2025-05-07 17:18:15\n"
     ]
    }
   ],
   "source": [
    "print(len(faq_list))\n",
    "\n",
    "from datetime import datetime\n",
    "\n",
    "now = datetime.now()\n",
    "print(now.strftime(\"%Y-%m-%d %H:%M:%S\"))\n",
    "\n"
   ]
  },
  {
   "cell_type": "code",
   "execution_count": 24,
   "id": "e995bd53",
   "metadata": {},
   "outputs": [
    {
     "data": {
      "text/plain": [
       "20072"
      ]
     },
     "execution_count": 24,
     "metadata": {},
     "output_type": "execute_result"
    }
   ],
   "source": [
    "l = data['resultList']\n",
    "len(l)"
   ]
  },
  {
   "cell_type": "markdown",
   "id": "7f81c1d1",
   "metadata": {},
   "source": [
    "# 민원정책 질의응답 항목 조회"
   ]
  },
  {
   "cell_type": "code",
   "execution_count": 59,
   "id": "7aecff37",
   "metadata": {},
   "outputs": [
    {
     "data": {
      "text/plain": [
       "{'resultCode': 'S00',\n",
       " 'resultMessage': '1(건) 조회되었습니다.',\n",
       " 'resultData': {'faqNo': '6859437',\n",
       "  'dutySctnNm': 'tqapttn',\n",
       "  'qnaTitl': '경기도 과천시에서 공급되는 주택의 해당 주택건설지역의 범위는?',\n",
       "  'qstnCntnCl': '경기도 과천시에서 공급되는 주택의 해당 주택건설지역의 범위는?',\n",
       "  'ansCntnCl': '&lt;span style=&quot;font-family:KoPub돋움체 Light&quot;&gt;해당 주택건설지역이란 특별시ㆍ광역시ㆍ특별자치시ㆍ&lt;/span&gt;&lt;a&gt;&lt;span style=&quot;font-family:KoPub돋움체 Light&quot;&gt;특별자치도&lt;/span&gt;(&lt;span style=&quot;font-family:KoPub돋움체 Light&quot;&gt;관할 구역 안에 지방자치단체인 시ㆍ군이 없는 특별자치도를 말한다&lt;/span&gt;)&lt;/a&gt; &lt;span style=&quot;font-family:KoPub돋움체 Light&quot;&gt;또는 시ㆍ군의 행정구역을 말합니다&lt;/span&gt;. &lt;span style=&quot;font-family:KoPub돋움체 Light&quot;&gt;따라서&lt;/span&gt;, &lt;span style=&quot;font-family:KoPub돋움체 Light&quot;&gt;경기도 과천시에서 공급하는 주택의 경우 과천시가 해당 주택건설지역에 해당됩니다&lt;/span&gt;.&lt;br /&gt;\\n&lt;span style=&quot;font-family:KoPub돋움체 Light&quot;&gt;참&lt;/span&gt;&lt;span style=&quot;font-family:KoPub돋움체 Light&quot;&gt;고로&lt;/span&gt;, &lt;span style=&quot;font-family:KoPub돋움체 Light&quot;&gt;서울특별시에서 공급되는 주택의 경우 서울특별시 전역&lt;/span&gt;, &lt;span style=&quot;font-family:KoPub돋움체 Light&quot;&gt;인천광역시의 경우 인천광역시&lt;/span&gt; &lt;span style=&quot;font-family:KoPub돋움체 Light&quot;&gt;전역이 해당 주택건설지역에 해당됩니다&lt;/span&gt;.\\n&lt;div class=&quot;hwp_editor_board_content&quot;&gt;&nbsp;&lt;/div&gt;\\n',\n",
       "  'ancName': '국토교통부',\n",
       "  'deptName': '국토교통부 주택토지실 주택정책관 주택기금과',\n",
       "  'regDate': '20240424',\n",
       "  'ancCode': '1613000',\n",
       "  'deptCode': '1613039',\n",
       "  'lawList': [{'fullName': '주택공급에 관한 규칙 / ',\n",
       "    'lwrdNm': '주택공급에 관한 규칙',\n",
       "    'lwrdUrl': 'http://law.go.kr/법령/주택공급에 관한 규칙'}],\n",
       "  'subjList': []},\n",
       " 'resultDebug': '2025-05-01 19:01:07, eapi22'}"
      ]
     },
     "execution_count": 59,
     "metadata": {},
     "output_type": "execute_result"
    }
   ],
   "source": [
    "url = 'http://apis.data.go.kr/1140100/CivilPolicyQnaService/PolicyQnaItem'\n",
    "\n",
    "params ={\n",
    "    'serviceKey' : d_key,\n",
    "    'faqNo': 6859437,\n",
    "    'dutySctnNm': 'tqapttn'\n",
    "}\n",
    "\n",
    "response = requests.get(url, params=params)\n",
    "response.json()"
   ]
  },
  {
   "cell_type": "markdown",
   "id": "7a609300",
   "metadata": {},
   "source": []
  },
  {
   "cell_type": "code",
   "execution_count": 74,
   "id": "66060546",
   "metadata": {},
   "outputs": [
    {
     "data": {
      "text/plain": [
       "{'resultCode': 'E03',\n",
       " 'resultMessage': '조회된 데이터가 없습니다.',\n",
       " 'resultDebug': '2025-05-01 19:01:07, eapi22'}"
      ]
     },
     "execution_count": 74,
     "metadata": {},
     "output_type": "execute_result"
    }
   ],
   "source": [
    "url = 'http://apis.data.go.kr/1140100/CivilPolicyQnaService/PolicyQnaItem'\n",
    "\n",
    "params ={\n",
    "    'serviceKey' : d_key,\n",
    "    'faqNo': 1192000,\n",
    "    'dutySctnNm': 'tqaplcy'\n",
    "}\n",
    "\n",
    "response = requests.get(url, params=params)\n",
    "response.json()"
   ]
  },
  {
   "cell_type": "markdown",
   "id": "2432f4f8",
   "metadata": {},
   "source": [
    "# DB 에 저장"
   ]
  },
  {
   "cell_type": "markdown",
   "id": "46065ce8",
   "metadata": {},
   "source": []
  },
  {
   "cell_type": "code",
   "execution_count": 19,
   "id": "0dfaf0b1",
   "metadata": {},
   "outputs": [],
   "source": [
    "import sqlite3\n",
    "import json"
   ]
  },
  {
   "cell_type": "code",
   "execution_count": 20,
   "id": "fe76597b",
   "metadata": {},
   "outputs": [
    {
     "data": {
      "text/plain": [
       "dict"
      ]
     },
     "execution_count": 20,
     "metadata": {},
     "output_type": "execute_result"
    }
   ],
   "source": [
    "type(data)"
   ]
  },
  {
   "cell_type": "code",
   "execution_count": 25,
   "id": "5602b33d",
   "metadata": {},
   "outputs": [
    {
     "data": {
      "text/plain": [
       "{'dutySctnNm': 'tqapttn',\n",
       " 'ancCode': '7480000',\n",
       " 'ancName': '울산광역시교육청',\n",
       " 'regDate': '20250506092434',\n",
       " 'title': '울산마을교육공동체 시설 이용 관련 안내',\n",
       " 'faqNo': '6882492'}"
      ]
     },
     "execution_count": 25,
     "metadata": {},
     "output_type": "execute_result"
    }
   ],
   "source": [
    "data['resultList'][1]"
   ]
  },
  {
   "cell_type": "code",
   "execution_count": 26,
   "id": "e180e985",
   "metadata": {},
   "outputs": [
    {
     "data": {
      "text/plain": [
       "20072"
      ]
     },
     "execution_count": 26,
     "metadata": {},
     "output_type": "execute_result"
    }
   ],
   "source": [
    "len(data['resultList'])"
   ]
  },
  {
   "cell_type": "code",
   "execution_count": 27,
   "id": "f724a7c5",
   "metadata": {},
   "outputs": [],
   "source": [
    "# SQLite DB 연결 (없으면 생성됨)\n",
    "conn = sqlite3.connect('faq20072.db')\n",
    "cursor = conn.cursor()"
   ]
  },
  {
   "cell_type": "code",
   "execution_count": 28,
   "id": "bc0ddf1f",
   "metadata": {},
   "outputs": [
    {
     "data": {
      "text/plain": [
       "<sqlite3.Cursor at 0x7f05ee1ba9c0>"
      ]
     },
     "execution_count": 28,
     "metadata": {},
     "output_type": "execute_result"
    }
   ],
   "source": [
    "cursor.execute('''\n",
    "CREATE TABLE IF NOT EXISTS faq (\n",
    "    faqNo TEXT PRIMARY KEY,\n",
    "    dutySctnNm TEXT,\n",
    "    ancCode TEXT,\n",
    "    ancName TEXT,\n",
    "    regDate TEXT,\n",
    "    title TEXT\n",
    ")\n",
    "''')"
   ]
  },
  {
   "cell_type": "code",
   "execution_count": 29,
   "id": "3adccf29",
   "metadata": {},
   "outputs": [],
   "source": [
    "# 데이터 삽입\n",
    "for item in data['resultList']:\n",
    "    cursor.execute('''\n",
    "        INSERT OR REPLACE INTO faq (faqNo, dutySctnNm, ancCode, ancName, regDate, title)\n",
    "        VALUES (?, ?, ?, ?, ?, ?)\n",
    "    ''', (\n",
    "        item['faqNo'],\n",
    "        item['dutySctnNm'],\n",
    "        item['ancCode'],\n",
    "        item['ancName'],\n",
    "        item['regDate'],\n",
    "        item['title']\n",
    "    ))"
   ]
  },
  {
   "cell_type": "code",
   "execution_count": 30,
   "id": "fb9fa79b",
   "metadata": {},
   "outputs": [],
   "source": [
    "# 저장 및 종료\n",
    "conn.commit()\n",
    "conn.close()"
   ]
  },
  {
   "cell_type": "code",
   "execution_count": null,
   "id": "b9078375",
   "metadata": {},
   "outputs": [
    {
     "name": "stdout",
     "output_type": "stream",
     "text": [
      "[6882504] 저장 완료\n",
      "[6882492] 저장 완료\n",
      "[6882491] 저장 완료\n",
      "[6882489] 저장 완료\n",
      "[6882490] 저장 완료\n",
      "[6882488] 저장 완료\n",
      "[6882376] 저장 완료\n",
      "[6882388] 저장 완료\n",
      "[6880877] 저장 완료\n",
      "[6882127] 저장 완료\n",
      "[6882439] 저장 완료\n",
      "[6882480] 저장 완료\n",
      "[6882499] 저장 완료\n",
      "[6882509] 저장 완료\n",
      "[6882193] 저장 완료\n",
      "[6882259] 저장 완료\n",
      "[6882487] 저장 완료\n",
      "[6882397] 저장 완료\n",
      "[6882423] 저장 완료\n",
      "[6882422] 저장 완료\n",
      "[6882436] 저장 완료\n",
      "[6882418] 저장 완료\n",
      "[6882416] 저장 완료\n",
      "[6882421] 저장 완료\n",
      "[6882121] 저장 완료\n",
      "[6882117] 저장 완료\n",
      "[6882114] 저장 완료\n",
      "[6882083] 저장 완료\n",
      "[6882082] 저장 완료\n",
      "[6882076] 저장 완료\n",
      "[6882068] 저장 완료\n",
      "[6882051] 저장 완료\n",
      "[6882025] 저장 완료\n",
      "[6882016] 저장 완료\n",
      "[6882015] 저장 완료\n",
      "[6882010] 저장 완료\n",
      "[6882008] 저장 완료\n",
      "[6882007] 저장 완료\n",
      "[6882005] 저장 완료\n",
      "[6881990] 저장 완료\n",
      "[6882441] 저장 완료\n",
      "[6882000] 저장 완료\n",
      "[6881989] 저장 완료\n",
      "[6881975] 저장 완료\n",
      "[6881970] 저장 완료\n",
      "[6881940] 저장 완료\n",
      "[6881941] 저장 완료\n",
      "[6881944] 저장 완료\n",
      "[6881943] 저장 완료\n",
      "[6881924] 저장 완료\n",
      "[6881847] 저장 완료\n",
      "[6881792] 저장 완료\n",
      "[6881484] 저장 완료\n",
      "[6882089] 저장 완료\n",
      "[6882085] 저장 완료\n",
      "[6882098] 저장 완료\n",
      "[6882215] 저장 완료\n",
      "[6882292] 저장 완료\n",
      "[6882192] 저장 완료\n",
      "[6882253] 저장 완료\n",
      "[6881824] 저장 완료\n",
      "[6882508] 저장 완료\n",
      "[6882507] 저장 완료\n",
      "[6882506] 저장 완료\n",
      "[6882505] 저장 완료\n",
      "[6882413] 저장 완료\n",
      "[6882503] 저장 완료\n",
      "[6882415] 저장 완료\n",
      "[6882500] 저장 완료\n",
      "[6882501] 저장 완료\n",
      "[6882497] 저장 완료\n",
      "[6882496] 저장 완료\n",
      "[6882494] 저장 완료\n",
      "[6882493] 저장 완료\n",
      "[6882475] 저장 완료\n",
      "[6882474] 저장 완료\n",
      "[6882473] 저장 완료\n",
      "[6882481] 저장 완료\n",
      "[6882478] 저장 완료\n",
      "[6882479] 저장 완료\n",
      "[6882472] 저장 완료\n",
      "[6882471] 저장 완료\n",
      "[6882470] 저장 완료\n",
      "[6882314] 저장 완료\n",
      "[6882271] 저장 완료\n",
      "[6882177] 저장 완료\n",
      "[6882173] 저장 완료\n",
      "[6882136] 저장 완료\n",
      "[6882135] 저장 완료\n",
      "[6882103] 저장 완료\n",
      "[6882019] 저장 완료\n",
      "[6882017] 저장 완료\n",
      "[6881983] 저장 완료\n",
      "[6881950] 저장 완료\n",
      "[6881939] 저장 완료\n",
      "[6881799] 저장 완료\n",
      "[6881796] 저장 완료\n",
      "[69269] 저장 완료\n",
      "[6882446] 저장 완료\n",
      "[6882462] 저장 완료\n",
      "[69294] 저장 완료\n",
      "[6882456] 저장 완료\n",
      "[6882396] 저장 완료\n",
      "[6882395] 저장 완료\n",
      "[6882394] 저장 완료\n",
      "[6882345] 저장 완료\n",
      "[6882465] 저장 완료\n",
      "[6882346] 저장 완료\n",
      "[6882469] 저장 완료\n",
      "[6882340] 저장 완료\n",
      "[6882467] 저장 완료\n",
      "[69293] 저장 완료\n",
      "[6882466] 저장 완료\n",
      "[6882468] 저장 완료\n",
      "[6882460] 저장 완료\n",
      "[6882457] 저장 완료\n",
      "[6882464] 저장 완료\n",
      "[6882458] 저장 완료\n",
      "[6882454] 저장 완료\n",
      "[6882434] 저장 완료\n",
      "[6882452] 저장 완료\n",
      "[6882450] 저장 완료\n",
      "[6882449] 저장 완료\n",
      "[6882442] 저장 완료\n",
      "[6882261] 저장 완료\n",
      "[6882270] 저장 완료\n",
      "[6882431] 저장 완료\n",
      "[6882322] 저장 완료\n",
      "[6882382] 저장 완료\n",
      "[6882385] 저장 완료\n",
      "[6882383] 저장 완료\n",
      "[6882380] 저장 완료\n",
      "[6882381] 저장 완료\n",
      "[6882379] 저장 완료\n",
      "[6882378] 저장 완료\n",
      "[6882405] 저장 완료\n",
      "[6882406] 저장 완료\n",
      "[6882404] 저장 완료\n",
      "[6882402] 저장 완료\n",
      "[6882403] 저장 완료\n",
      "[6882401] 저장 완료\n",
      "[6882400] 저장 완료\n",
      "[6882399] 저장 완료\n",
      "[6882390] 저장 완료\n",
      "[6882377] 저장 완료\n",
      "[6882389] 저장 완료\n",
      "[6882387] 저장 완료\n",
      "[69290] 저장 완료\n",
      "[6882334] 저장 완료\n",
      "[6882393] 저장 완료\n",
      "[6882384] 저장 완료\n",
      "[6882375] 저장 완료\n",
      "[6882373] 저장 완료\n",
      "[6882374] 저장 완료\n",
      "[6882369] 저장 완료\n",
      "[6882366] 저장 완료\n",
      "[6882364] 저장 완료\n",
      "[6824740] 저장 완료\n",
      "[6753893] 저장 완료\n",
      "[6824053] 저장 완료\n",
      "[6824741] 저장 완료\n",
      "[6753256] 저장 완료\n",
      "[348457] 저장 완료\n",
      "[348458] 저장 완료\n",
      "[464791] 저장 완료\n",
      "[6753895] 저장 완료\n",
      "[6824052] 저장 완료\n",
      "[6753257] 저장 완료\n",
      "[6754455] 저장 완료\n",
      "[6824739] 저장 완료\n",
      "[6754449] 저장 완료\n",
      "[69289] 저장 완료\n",
      "[6882303] 저장 완료\n"
     ]
    },
    {
     "ename": "KeyboardInterrupt",
     "evalue": "",
     "output_type": "error",
     "traceback": [
      "\u001b[0;31m---------------------------------------------------------------------------\u001b[0m",
      "\u001b[0;31mKeyboardInterrupt\u001b[0m                         Traceback (most recent call last)",
      "Cell \u001b[0;32mIn[3], line 65\u001b[0m\n\u001b[1;32m     48\u001b[0m     cursor\u001b[38;5;241m.\u001b[39mexecute(\u001b[38;5;124m'''\u001b[39m\n\u001b[1;32m     49\u001b[0m \u001b[38;5;124m        INSERT OR REPLACE INTO faq_detail (\u001b[39m\n\u001b[1;32m     50\u001b[0m \u001b[38;5;124m            faqNo, qnaTitl, qstnCntnCl, ansCntnCl,\u001b[39m\n\u001b[0;32m   (...)\u001b[0m\n\u001b[1;32m     62\u001b[0m         item\u001b[38;5;241m.\u001b[39mget(\u001b[38;5;124m'\u001b[39m\u001b[38;5;124mdeptCode\u001b[39m\u001b[38;5;124m'\u001b[39m)\n\u001b[1;32m     63\u001b[0m     ))\n\u001b[1;32m     64\u001b[0m     \u001b[38;5;28mprint\u001b[39m(\u001b[38;5;124mf\u001b[39m\u001b[38;5;124m\"\u001b[39m\u001b[38;5;124m[\u001b[39m\u001b[38;5;132;01m{\u001b[39;00mfaqNo\u001b[38;5;132;01m}\u001b[39;00m\u001b[38;5;124m] 저장 완료\u001b[39m\u001b[38;5;124m\"\u001b[39m)\n\u001b[0;32m---> 65\u001b[0m     \u001b[43mtime\u001b[49m\u001b[38;5;241;43m.\u001b[39;49m\u001b[43msleep\u001b[49m\u001b[43m(\u001b[49m\u001b[38;5;241;43m0.3\u001b[39;49m\u001b[43m)\u001b[49m  \u001b[38;5;66;03m# 과도한 요청 방지\u001b[39;00m\n\u001b[1;32m     67\u001b[0m \u001b[38;5;28;01mexcept\u001b[39;00m \u001b[38;5;167;01mException\u001b[39;00m \u001b[38;5;28;01mas\u001b[39;00m e:\n\u001b[1;32m     68\u001b[0m     \u001b[38;5;28mprint\u001b[39m(\u001b[38;5;124mf\u001b[39m\u001b[38;5;124m\"\u001b[39m\u001b[38;5;124m[\u001b[39m\u001b[38;5;132;01m{\u001b[39;00mfaqNo\u001b[38;5;132;01m}\u001b[39;00m\u001b[38;5;124m] 처리 중 예외 발생: \u001b[39m\u001b[38;5;132;01m{\u001b[39;00me\u001b[38;5;132;01m}\u001b[39;00m\u001b[38;5;124m\"\u001b[39m)\n",
      "\u001b[0;31mKeyboardInterrupt\u001b[0m: "
     ]
    }
   ],
   "source": [
    "import sqlite3\n",
    "import requests\n",
    "import time  # 요청 간 텀 주기 위해\n",
    "\n",
    "# 인증키 및 API 기본 정보\n",
    "API_URL = 'http://apis.data.go.kr/1140100/CivilPolicyQnaService/PolicyQnaItem'\n",
    "API_KEY = d_key  # 반드시 디코딩된 형태로 넣어야 함\n",
    "\n",
    "# SQLite 연결\n",
    "conn = sqlite3.connect('/home/tom/code/sinmun-go/note/faq20072.db')\n",
    "cursor = conn.cursor()\n",
    "\n",
    "# 상세 정보 저장용 테이블 생성\n",
    "cursor.execute('''\n",
    "CREATE TABLE IF NOT EXISTS faq_detail (\n",
    "    faqNo TEXT PRIMARY KEY,\n",
    "    qnaTitl TEXT,\n",
    "    qstnCntnCl TEXT,\n",
    "    ansCntnCl TEXT,\n",
    "    ancName TEXT,\n",
    "    deptName TEXT,\n",
    "    regDate TEXT,\n",
    "    ancCode TEXT,\n",
    "    deptCode TEXT\n",
    ")\n",
    "''')\n",
    "\n",
    "# faq 테이블에서 필요한 항목 조회\n",
    "cursor.execute('SELECT faqNo, dutySctnNm FROM faq ORDER BY faqNo')\n",
    "faq_items = cursor.fetchall()\n",
    "\n",
    "# 루프 돌며 상세 정보 가져와 DB 저장\n",
    "for faqNo, dutySctnNm in faq_items:\n",
    "    params = {\n",
    "        'serviceKey': API_KEY,\n",
    "        'faqNo': faqNo,\n",
    "        'dutySctnNm': dutySctnNm\n",
    "    }\n",
    "\n",
    "    try:\n",
    "        response = requests.get(API_URL, params=params)\n",
    "        data = response.json()\n",
    "        if data['resultCode'] != 'S00':\n",
    "            print(f\"[{faqNo}] API 오류: {data['resultMessage']}\")\n",
    "            continue\n",
    "\n",
    "        item = data['resultData']\n",
    "        cursor.execute('''\n",
    "            INSERT OR REPLACE INTO faq_detail (\n",
    "                faqNo, qnaTitl, qstnCntnCl, ansCntnCl,\n",
    "                ancName, deptName, regDate, ancCode, deptCode\n",
    "            ) VALUES (?, ?, ?, ?, ?, ?, ?, ?, ?)\n",
    "        ''', (\n",
    "            item.get('faqNo'),\n",
    "            item.get('qnaTitl'),\n",
    "            item.get('qstnCntnCl'),\n",
    "            item.get('ansCntnCl'),\n",
    "            item.get('ancName'),\n",
    "            item.get('deptName'),\n",
    "            item.get('regDate'),\n",
    "            item.get('ancCode'),\n",
    "            item.get('deptCode')\n",
    "        ))\n",
    "        # print(f\"[{faqNo}] 저장 완료\")\n",
    "        # time.sleep(0.3)  # 과도한 요청 방지\n",
    "\n",
    "    except Exception as e:\n",
    "        print(f\"[{faqNo}] 처리 중 예외 발생: {e}\")\n",
    "\n",
    "# 저장 및 종료\n",
    "conn.commit()\n",
    "conn.close()\n"
   ]
  },
  {
   "cell_type": "code",
   "execution_count": 4,
   "id": "f34d62d1",
   "metadata": {},
   "outputs": [],
   "source": [
    "conn.commit()\n",
    "conn.close()"
   ]
  },
  {
   "cell_type": "code",
   "execution_count": null,
   "id": "e06942f9",
   "metadata": {},
   "outputs": [],
   "source": []
  }
 ],
 "metadata": {
  "kernelspec": {
   "display_name": ".venv",
   "language": "python",
   "name": "python3"
  },
  "language_info": {
   "codemirror_mode": {
    "name": "ipython",
    "version": 3
   },
   "file_extension": ".py",
   "mimetype": "text/x-python",
   "name": "python",
   "nbconvert_exporter": "python",
   "pygments_lexer": "ipython3",
   "version": "3.10.12"
  }
 },
 "nbformat": 4,
 "nbformat_minor": 5
}
