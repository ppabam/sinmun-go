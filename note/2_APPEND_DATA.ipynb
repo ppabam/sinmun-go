{
 "cells": [
  {
   "cell_type": "code",
   "execution_count": 8,
   "id": "2cbbb6a5",
   "metadata": {},
   "outputs": [
    {
     "name": "stdout",
     "output_type": "stream",
     "text": [
      "최종 입수 일시 : 20250512224548 / 일자 20250512 ~ 오늘 20250514\n"
     ]
    }
   ],
   "source": [
    "import sqlite3\n",
    "from datetime import datetime\n",
    "\n",
    "today_str = datetime.today().strftime('%Y%m%d')\n",
    "\n",
    "max_date = ''\n",
    "with sqlite3.connect('faq20072.db') as conn:\n",
    "    cursor = conn.cursor()\n",
    "    cursor.execute('SELECT MAX(faq.regDate) max_date FROM faq')\n",
    "    result = cursor.fetchone()\n",
    "    max_date = result[0]\n",
    "    \n",
    "print(f'최종 입수 일시 : {max_date} / 일자 {max_date[:8]} ~ 오늘 {today_str}')"
   ]
  },
  {
   "cell_type": "code",
   "execution_count": 9,
   "id": "ec7f55c9-de38-4e42-94b8-c8a3345f6e19",
   "metadata": {},
   "outputs": [
    {
     "name": "stdout",
     "output_type": "stream",
     "text": [
      "입수 193 건의 데이터\n"
     ]
    }
   ],
   "source": [
    "import requests\n",
    "import os\n",
    "\n",
    "# 민원정책 질의응답조회서비스\n",
    "url = 'http://apis.data.go.kr/1140100/CivilPolicyQnaService/PolicyQnaList'\n",
    "d_key = os.getenv('SINNUNGO_DECODING_KEY', 'ABCDEFGHIJKLMNOPQRSTUVWXYZabcdefghijklmnopqrstuvwxyz0123456789')\n",
    "\n",
    "params ={\n",
    "    'serviceKey' : d_key, \n",
    "    'firstIndex' : '1', \n",
    "    'recordCountPerPage' : '30000', \n",
    "    'regFrom' : max_date[:8], \n",
    "    'regTo' : today_str\n",
    "}\n",
    "\n",
    "response = requests.get(url, params=params)\n",
    "\n",
    "r = response.json()\n",
    "faq_list = r['resultList']\n",
    "print(f\"입수 {len(faq_list)} 건의 데이터\")"
   ]
  },
  {
   "cell_type": "code",
   "execution_count": 10,
   "id": "de67cfbc",
   "metadata": {},
   "outputs": [
    {
     "name": "stdout",
     "output_type": "stream",
     "text": [
      "입수 193 건의 데이터\n"
     ]
    }
   ],
   "source": [
    "with sqlite3.connect('faq20072.db') as conn:\n",
    "    cursor = conn.cursor()\n",
    "    \n",
    "    # 테이블 삭제\n",
    "    cursor.execute('DROP TABLE IF EXISTS faq_new')\n",
    "    \n",
    "    # 테이블 생성\n",
    "    cursor.execute('''\n",
    "    CREATE TABLE IF NOT EXISTS faq_new (\n",
    "        faqNo TEXT PRIMARY KEY,\n",
    "        dutySctnNm TEXT,\n",
    "        ancCode TEXT,\n",
    "        ancName TEXT,\n",
    "        regDate TEXT,\n",
    "        title TEXT\n",
    "    )\n",
    "    ''')\n",
    "    \n",
    "    success_count = 0\n",
    "    for item in faq_list:\n",
    "        try:\n",
    "            cursor.execute('''\n",
    "                INSERT INTO faq_new (faqNo, dutySctnNm, ancCode, ancName, regDate, title)\n",
    "                VALUES (?, ?, ?, ?, ?, ?)\n",
    "            ''', (\n",
    "                item['faqNo'],\n",
    "                item['dutySctnNm'],\n",
    "                item['ancCode'],\n",
    "                item['ancName'],\n",
    "                item['regDate'],\n",
    "                item['title']\n",
    "            ))\n",
    "            success_count = success_count + 1\n",
    "        except sqlite3.IntegrityError:\n",
    "            print(f\"Duplicate entry for faqNo: {item['faqNo']}\")\n",
    "            \n",
    "    print(f\"입수 {success_count} 건의 데이터\")"
   ]
  },
  {
   "cell_type": "code",
   "execution_count": 11,
   "id": "440afde7",
   "metadata": {},
   "outputs": [
    {
     "name": "stdout",
     "output_type": "stream",
     "text": [
      "Inserted rows: 41 ( 20463 -> 20504)\n"
     ]
    }
   ],
   "source": [
    "import sqlite3\n",
    "\n",
    "with sqlite3.connect('faq20072.db') as conn:\n",
    "    cursor = conn.cursor()\n",
    "    \n",
    "     # 1. INSERT 전 row 수 확인\n",
    "    cursor.execute('SELECT COUNT(*) FROM faq')\n",
    "    before_count = cursor.fetchone()[0]\n",
    "    \n",
    "     # 2. INSERT 실행 (faq_new에만 있는 행을 추가)\n",
    "    cursor.execute('''\n",
    "        INSERT INTO faq\n",
    "        SELECT n.* \n",
    "        FROM faq_new n\n",
    "        LEFT JOIN faq f ON n.faqNo = f.faqNo\n",
    "        WHERE f.faqNo IS NULL\n",
    "        ''')\n",
    "    conn.commit()\n",
    "    \n",
    "     # 3. INSERT 후 row 수 확인\n",
    "    cursor.execute('SELECT COUNT(*) FROM faq')\n",
    "    after_count = cursor.fetchone()[0]\n",
    "    \n",
    "    inserted_count = after_count - before_count\n",
    "    print(f'Inserted rows: {inserted_count} ( {before_count} -> {after_count})')\n"
   ]
  },
  {
   "cell_type": "code",
   "execution_count": 12,
   "id": "b0be7acf",
   "metadata": {},
   "outputs": [
    {
     "name": "stdout",
     "output_type": "stream",
     "text": [
      "새로운 입수 대상: 73\n"
     ]
    }
   ],
   "source": [
    "with sqlite3.connect('faq20072.db') as conn:\n",
    "    cursor = conn.cursor()\n",
    "    \n",
    "    # faq 테이블에서 필요한 항목 조회\n",
    "    # cursor.execute('SELECT faqNo, dutySctnNm FROM faq ORDER BY faqNo')\n",
    "    # LEFT JOIN을 사용하여 faq_de에 없는 항목만 가져오기\n",
    "    cursor.execute('''SELECT f.faqNo, f.dutySctnNm \n",
    "    FROM faq f\n",
    "    LEFT JOIN faq_de d ON f.faqNo = d.faqNo\n",
    "    WHERE d.faqNo IS NULL''')\n",
    "\n",
    "    faq_news = cursor.fetchall()\n",
    "    print(f\"새로운 입수 대상: {len(faq_news)}\")"
   ]
  },
  {
   "cell_type": "code",
   "execution_count": 13,
   "id": "972d94f5",
   "metadata": {},
   "outputs": [
    {
     "name": "stdout",
     "output_type": "stream",
     "text": [
      "[6881095] API 오류: 조회된 데이터가 없습니다.\n",
      "[6881433] API 오류: 조회된 데이터가 없습니다.\n",
      "[6881466] API 오류: 조회된 데이터가 없습니다.\n",
      "[6880775] API 오류: 조회된 데이터가 없습니다.\n",
      "[6880235] API 오류: 조회된 데이터가 없습니다.\n",
      "[6873621] API 오류: 조회된 데이터가 없습니다.\n",
      "[6867062] API 오류: 조회된 데이터가 없습니다.\n",
      "[6876947] API 오류: 조회된 데이터가 없습니다.\n",
      "[6876454] API 오류: 조회된 데이터가 없습니다.\n",
      "[6875441] API 오류: 조회된 데이터가 없습니다.\n",
      "[6870886] API 오류: 조회된 데이터가 없습니다.\n",
      "[6872406] API 오류: 조회된 데이터가 없습니다.\n",
      "[6872402] API 오류: 조회된 데이터가 없습니다.\n",
      "[6873504] API 오류: 조회된 데이터가 없습니다.\n",
      "[6873483] API 오류: 조회된 데이터가 없습니다.\n",
      "[6872935] API 오류: 조회된 데이터가 없습니다.\n",
      "[6872628] 처리 중 예외 발생: Expecting value: line 1 column 1 (char 0) [6870963] API 오류: 조회된 데이터가 없습니다.\n",
      "[6870962] API 오류: 조회된 데이터가 없습니다.\n",
      "[6871466] API 오류: 조회된 데이터가 없습니다.\n",
      "[6869745] 처리 중 예외 발생: Expecting value: line 1 column 1 (char 0) [6869007] API 오류: 조회된 데이터가 없습니다.\n",
      "[6868677] API 오류: 조회된 데이터가 없습니다.\n",
      "[6868665] API 오류: 조회된 데이터가 없습니다.\n",
      "[6868672] API 오류: 조회된 데이터가 없습니다.\n",
      "[6868667] API 오류: 조회된 데이터가 없습니다.\n",
      "[6868662] API 오류: 조회된 데이터가 없습니다.\n",
      "[6868783] API 오류: 조회된 데이터가 없습니다.\n",
      "[6866333] API 오류: 조회된 데이터가 없습니다.\n",
      "[6866187] API 오류: 조회된 데이터가 없습니다.\n",
      "[6864482] API 오류: 조회된 데이터가 없습니다.\n",
      "[6863365] API 오류: 조회된 데이터가 없습니다.\n",
      "[6883069] API 오류: 조회된 데이터가 없습니다.\n",
      "[6883067] API 오류: 조회된 데이터가 없습니다.\n",
      "총 73 - 39건 저장 완료, 실패 2건\n"
     ]
    }
   ],
   "source": [
    "import sqlite3\n",
    "import requests\n",
    "import time  # 요청 간 텀 주기 위해\n",
    "\n",
    "# 인증키 및 API 기본 정보\n",
    "API_URL = 'http://apis.data.go.kr/1140100/CivilPolicyQnaService/PolicyQnaItem'\n",
    "API_KEY = d_key \n",
    "\n",
    "with sqlite3.connect('faq20072.db') as conn:\n",
    "    cursor = conn.cursor()\n",
    "    \n",
    "    # 상세 정보 저장용 테이블 생성\n",
    "    cursor.execute('''\n",
    "    CREATE TABLE IF NOT EXISTS faq_de (\n",
    "        faqNo TEXT PRIMARY KEY,\n",
    "        qnaTitl TEXT,\n",
    "        qstnCntnCl TEXT,\n",
    "        ansCntnCl TEXT,\n",
    "        ancName TEXT,\n",
    "        deptName TEXT,\n",
    "        regDate TEXT,\n",
    "        ancCode TEXT,\n",
    "        deptCode TEXT\n",
    "    )\n",
    "    ''')\n",
    "    \n",
    "    \n",
    "    ok_count = 0\n",
    "    fail_count = 0\n",
    "\n",
    "    # 루프 돌며 상세 정보 가져와 DB 저장\n",
    "    for faqNo, dutySctnNm in faq_news:\n",
    "        params = {\n",
    "            'serviceKey': API_KEY,\n",
    "            'faqNo': faqNo,\n",
    "            'dutySctnNm': dutySctnNm\n",
    "        }\n",
    "\n",
    "        try:\n",
    "            response = requests.get(API_URL, params=params)\n",
    "            data = response.json()\n",
    "            if data['resultCode'] != 'S00':\n",
    "                print(f\"[{faqNo}] API 오류: {data['resultMessage']}\")\n",
    "                continue\n",
    "\n",
    "            item = data['resultData']\n",
    "            cursor.execute('''\n",
    "                INSERT OR REPLACE INTO faq_de (\n",
    "                    faqNo, qnaTitl, qstnCntnCl, ansCntnCl,\n",
    "                    ancName, deptName, regDate, ancCode, deptCode\n",
    "                ) VALUES (?, ?, ?, ?, ?, ?, ?, ?, ?)\n",
    "            ''', (\n",
    "                item.get('faqNo'),\n",
    "                item.get('qnaTitl'),\n",
    "                item.get('qstnCntnCl'),\n",
    "                item.get('ansCntnCl'),\n",
    "                item.get('ancName'),\n",
    "                item.get('deptName'),\n",
    "                item.get('regDate'),\n",
    "                item.get('ancCode'),\n",
    "                item.get('deptCode')\n",
    "            ))\n",
    "            # print(f\"[{faqNo}] 저장 완료\")\n",
    "            # time.sleep(0.3)  # 과도한 요청 방지\n",
    "            ok_count = ok_count + 1\n",
    "            if ok_count % 100 == 0:\n",
    "                print(f\"[{faqNo}] {ok_count}개 저장됨\")\n",
    "                conn.commit()\n",
    "                time.sleep(0.3)  # 과도한 요청 방지\n",
    "\n",
    "        except Exception as e:\n",
    "            fail_count = fail_count + 1\n",
    "            print(f\"[{faqNo}] 처리 중 예외 발생: {e}\", end=' ')\n",
    "    conn.commit()  # 마지막 커밋\n",
    "    print(f\"총 { len(faq_news) } - {ok_count}건 저장 완료, 실패 {fail_count}건\")"
   ]
  }
 ],
 "metadata": {
  "kernelspec": {
   "display_name": ".venv",
   "language": "python",
   "name": "python3"
  },
  "language_info": {
   "codemirror_mode": {
    "name": "ipython",
    "version": 3
   },
   "file_extension": ".py",
   "mimetype": "text/x-python",
   "name": "python",
   "nbconvert_exporter": "python",
   "pygments_lexer": "ipython3",
   "version": "3.10.12"
  }
 },
 "nbformat": 4,
 "nbformat_minor": 5
}
